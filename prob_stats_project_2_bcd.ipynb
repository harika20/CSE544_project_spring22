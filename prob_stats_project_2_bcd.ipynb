{
  "cells": [
    {
      "cell_type": "code",
      "execution_count": 187,
      "metadata": {
        "id": "FoZeormaYwFs"
      },
      "outputs": [],
      "source": [
        "import pandas as pd\n",
        "import numpy as np\n",
        "from scipy.stats import poisson\n",
        "from scipy.stats import geom\n",
        "from scipy.stats import binom\n",
        "from itertools import permutations\n",
        "import math\n",
        "from statistics import mean\n",
        "import random\n",
        "from scipy.stats import gamma\n",
        "import matplotlib.pyplot as  plt\n",
        "import copy\n",
        "import scipy.stats\n"
      ]
    },
    {
      "cell_type": "code",
      "execution_count": 188,
      "metadata": {
        "colab": {
          "base_uri": "https://localhost:8080/"
        },
        "id": "wWpJCEz1fHi6",
        "outputId": "0492e98a-9757-44a6-d5df-86078b57706d"
      },
      "outputs": [
        {
          "output_type": "stream",
          "name": "stdout",
          "text": [
            "Drive already mounted at /content/gdrive; to attempt to forcibly remount, call drive.mount(\"/content/gdrive\", force_remount=True).\n"
          ]
        }
      ],
      "source": [
        "from google.colab import drive\n",
        "drive.mount('/content/gdrive')"
      ]
    },
    {
      "cell_type": "markdown",
      "metadata": {
        "id": "X9qs6l7azBy3"
      },
      "source": [
        "#Import Cases and Vaccination datasets (X dataset)"
      ]
    },
    {
      "cell_type": "code",
      "execution_count": 189,
      "metadata": {
        "id": "_eHKBuCLY8o4"
      },
      "outputs": [],
      "source": [
        "cases_df_id_de_daily_de_final=pd.read_csv(\"/content/gdrive/MyDrive/delaware_cases.csv\")\n",
        "cases_df_id_de_daily_id_final=pd.read_csv(\"/content/gdrive/MyDrive/idaho_cases.csv\")\n",
        "vaccine_daily_de=pd.read_csv(\"/content/gdrive/MyDrive/delaware_vaccines.csv\")\n",
        "vaccine_daily_id=pd.read_csv(\"/content/gdrive/MyDrive/idaho_vaccines.csv\")"
      ]
    },
    {
      "cell_type": "code",
      "execution_count": 190,
      "metadata": {
        "id": "PzmhOl7P5Sa5"
      },
      "outputs": [],
      "source": [
        "### Question 2b"
      ]
    },
    {
      "cell_type": "markdown",
      "source": [
        "#Question 2b"
      ],
      "metadata": {
        "id": "MK91HTgjEufB"
      }
    },
    {
      "cell_type": "code",
      "execution_count": 191,
      "metadata": {
        "id": "GfMyH4z1BkyC"
      },
      "outputs": [],
      "source": [
        "cases_df_id_de_daily_de_final['submission_date'] = pd.to_datetime(cases_df_id_de_daily_de_final['submission_date'])\n",
        "cases_df_id_de_daily_id_final['submission_date'] = pd.to_datetime(cases_df_id_de_daily_id_final['submission_date'])"
      ]
    },
    {
      "cell_type": "markdown",
      "source": [
        "#Filtering rows to get data from 1st October to 31st December"
      ],
      "metadata": {
        "id": "s7jIkULp1qmJ"
      }
    },
    {
      "cell_type": "code",
      "execution_count": 192,
      "metadata": {
        "id": "6zMOnG1uGYTd"
      },
      "outputs": [],
      "source": [
        "three_month_condition_de = (cases_df_id_de_daily_de_final['submission_date'] >= '2021-10-01') & (cases_df_id_de_daily_de_final['submission_date'] <= '2021-12-31')\n",
        "three_month_condition_id = (cases_df_id_de_daily_id_final['submission_date'] >= '2021-10-01') & (cases_df_id_de_daily_id_final['submission_date'] <= '2021-12-31')"
      ]
    },
    {
      "cell_type": "code",
      "execution_count": 193,
      "metadata": {
        "id": "_3KsGkQhH25f"
      },
      "outputs": [],
      "source": [
        "three_month_de_data = cases_df_id_de_daily_de_final.loc[three_month_condition_de]\n",
        "three_month_id_data = cases_df_id_de_daily_id_final.loc[three_month_condition_id]"
      ]
    },
    {
      "cell_type": "code",
      "execution_count": 194,
      "metadata": {
        "id": "v9mBIXqcIQYr",
        "colab": {
          "base_uri": "https://localhost:8080/",
          "height": 835
        },
        "outputId": "531c7d6b-4b03-4220-dc7e-819500374273"
      },
      "outputs": [
        {
          "output_type": "execute_result",
          "data": {
            "text/plain": [
              "     tot_cases  tot_death submission_date state  new_case  pnew_case  \\\n",
              "510        630          0      2021-10-01    DE       630       79.0   \n",
              "511        403          0      2021-10-03    DE       403       61.0   \n",
              "512        381          0      2021-10-04    DE       381       53.0   \n",
              "513        270          3      2021-10-05    DE       270       23.0   \n",
              "514        444          2      2021-10-06    DE       444       45.0   \n",
              "..         ...        ...             ...   ...       ...        ...   \n",
              "571        683          0      2021-12-20    DE       683       61.0   \n",
              "572        541          7      2021-12-21    DE       541       35.0   \n",
              "573        665          0      2021-12-22    DE       665       38.0   \n",
              "574        451          0      2021-12-27    DE       451       37.0   \n",
              "575        621          5      2021-12-28    DE       621       48.0   \n",
              "\n",
              "     new_death  pnew_death              created_at consent_cases  \\\n",
              "510          0         0.0  10/03/2021 12:00:00 AM         Agree   \n",
              "511          0         0.0  10/05/2021 12:00:00 AM         Agree   \n",
              "512          0         0.0  10/06/2021 12:00:00 AM         Agree   \n",
              "513          3         0.0  10/07/2021 12:00:00 AM         Agree   \n",
              "514          2         0.0  10/08/2021 12:00:00 AM         Agree   \n",
              "..         ...         ...                     ...           ...   \n",
              "571          0         0.0  12/22/2021 12:00:00 AM         Agree   \n",
              "572          7         0.0  12/23/2021 12:00:00 AM         Agree   \n",
              "573          0         0.0  12/24/2021 12:00:00 AM         Agree   \n",
              "574          0         0.0  12/29/2021 12:00:00 AM         Agree   \n",
              "575          5         0.0  12/30/2021 12:00:00 AM         Agree   \n",
              "\n",
              "    consent_deaths  prob_cases  conf_cases  conf_death  prob_death  \\\n",
              "510          Agree     10322.0    122236.0      1788.0       166.0   \n",
              "511          Agree     10421.0    123174.0      1805.0       167.0   \n",
              "512          Agree     10474.0    123502.0      1805.0       167.0   \n",
              "513          Agree     10497.0    123749.0      1808.0       167.0   \n",
              "514          Agree     10542.0    124148.0      1810.0       167.0   \n",
              "..             ...         ...         ...         ...         ...   \n",
              "571          Agree     13690.0    151575.0      2053.0       189.0   \n",
              "572          Agree     13725.0    152081.0      2060.0       189.0   \n",
              "573          Agree     13763.0    152708.0      2060.0       189.0   \n",
              "574          Agree     14353.0    157901.0      2080.0       191.0   \n",
              "575          Agree     14401.0    158474.0      2085.0       191.0   \n",
              "\n",
              "     tot_cases_old  tot_death_old  \n",
              "510         132558           1954  \n",
              "511         133595           1972  \n",
              "512         133976           1972  \n",
              "513         134246           1975  \n",
              "514         134690           1977  \n",
              "..             ...            ...  \n",
              "571         165265           2242  \n",
              "572         165806           2249  \n",
              "573         166471           2249  \n",
              "574         172254           2271  \n",
              "575         172875           2276  \n",
              "\n",
              "[66 rows x 17 columns]"
            ],
            "text/html": [
              "\n",
              "  <div id=\"df-51e8bacb-4848-41d4-9930-85efc9a9548c\">\n",
              "    <div class=\"colab-df-container\">\n",
              "      <div>\n",
              "<style scoped>\n",
              "    .dataframe tbody tr th:only-of-type {\n",
              "        vertical-align: middle;\n",
              "    }\n",
              "\n",
              "    .dataframe tbody tr th {\n",
              "        vertical-align: top;\n",
              "    }\n",
              "\n",
              "    .dataframe thead th {\n",
              "        text-align: right;\n",
              "    }\n",
              "</style>\n",
              "<table border=\"1\" class=\"dataframe\">\n",
              "  <thead>\n",
              "    <tr style=\"text-align: right;\">\n",
              "      <th></th>\n",
              "      <th>tot_cases</th>\n",
              "      <th>tot_death</th>\n",
              "      <th>submission_date</th>\n",
              "      <th>state</th>\n",
              "      <th>new_case</th>\n",
              "      <th>pnew_case</th>\n",
              "      <th>new_death</th>\n",
              "      <th>pnew_death</th>\n",
              "      <th>created_at</th>\n",
              "      <th>consent_cases</th>\n",
              "      <th>consent_deaths</th>\n",
              "      <th>prob_cases</th>\n",
              "      <th>conf_cases</th>\n",
              "      <th>conf_death</th>\n",
              "      <th>prob_death</th>\n",
              "      <th>tot_cases_old</th>\n",
              "      <th>tot_death_old</th>\n",
              "    </tr>\n",
              "  </thead>\n",
              "  <tbody>\n",
              "    <tr>\n",
              "      <th>510</th>\n",
              "      <td>630</td>\n",
              "      <td>0</td>\n",
              "      <td>2021-10-01</td>\n",
              "      <td>DE</td>\n",
              "      <td>630</td>\n",
              "      <td>79.0</td>\n",
              "      <td>0</td>\n",
              "      <td>0.0</td>\n",
              "      <td>10/03/2021 12:00:00 AM</td>\n",
              "      <td>Agree</td>\n",
              "      <td>Agree</td>\n",
              "      <td>10322.0</td>\n",
              "      <td>122236.0</td>\n",
              "      <td>1788.0</td>\n",
              "      <td>166.0</td>\n",
              "      <td>132558</td>\n",
              "      <td>1954</td>\n",
              "    </tr>\n",
              "    <tr>\n",
              "      <th>511</th>\n",
              "      <td>403</td>\n",
              "      <td>0</td>\n",
              "      <td>2021-10-03</td>\n",
              "      <td>DE</td>\n",
              "      <td>403</td>\n",
              "      <td>61.0</td>\n",
              "      <td>0</td>\n",
              "      <td>0.0</td>\n",
              "      <td>10/05/2021 12:00:00 AM</td>\n",
              "      <td>Agree</td>\n",
              "      <td>Agree</td>\n",
              "      <td>10421.0</td>\n",
              "      <td>123174.0</td>\n",
              "      <td>1805.0</td>\n",
              "      <td>167.0</td>\n",
              "      <td>133595</td>\n",
              "      <td>1972</td>\n",
              "    </tr>\n",
              "    <tr>\n",
              "      <th>512</th>\n",
              "      <td>381</td>\n",
              "      <td>0</td>\n",
              "      <td>2021-10-04</td>\n",
              "      <td>DE</td>\n",
              "      <td>381</td>\n",
              "      <td>53.0</td>\n",
              "      <td>0</td>\n",
              "      <td>0.0</td>\n",
              "      <td>10/06/2021 12:00:00 AM</td>\n",
              "      <td>Agree</td>\n",
              "      <td>Agree</td>\n",
              "      <td>10474.0</td>\n",
              "      <td>123502.0</td>\n",
              "      <td>1805.0</td>\n",
              "      <td>167.0</td>\n",
              "      <td>133976</td>\n",
              "      <td>1972</td>\n",
              "    </tr>\n",
              "    <tr>\n",
              "      <th>513</th>\n",
              "      <td>270</td>\n",
              "      <td>3</td>\n",
              "      <td>2021-10-05</td>\n",
              "      <td>DE</td>\n",
              "      <td>270</td>\n",
              "      <td>23.0</td>\n",
              "      <td>3</td>\n",
              "      <td>0.0</td>\n",
              "      <td>10/07/2021 12:00:00 AM</td>\n",
              "      <td>Agree</td>\n",
              "      <td>Agree</td>\n",
              "      <td>10497.0</td>\n",
              "      <td>123749.0</td>\n",
              "      <td>1808.0</td>\n",
              "      <td>167.0</td>\n",
              "      <td>134246</td>\n",
              "      <td>1975</td>\n",
              "    </tr>\n",
              "    <tr>\n",
              "      <th>514</th>\n",
              "      <td>444</td>\n",
              "      <td>2</td>\n",
              "      <td>2021-10-06</td>\n",
              "      <td>DE</td>\n",
              "      <td>444</td>\n",
              "      <td>45.0</td>\n",
              "      <td>2</td>\n",
              "      <td>0.0</td>\n",
              "      <td>10/08/2021 12:00:00 AM</td>\n",
              "      <td>Agree</td>\n",
              "      <td>Agree</td>\n",
              "      <td>10542.0</td>\n",
              "      <td>124148.0</td>\n",
              "      <td>1810.0</td>\n",
              "      <td>167.0</td>\n",
              "      <td>134690</td>\n",
              "      <td>1977</td>\n",
              "    </tr>\n",
              "    <tr>\n",
              "      <th>...</th>\n",
              "      <td>...</td>\n",
              "      <td>...</td>\n",
              "      <td>...</td>\n",
              "      <td>...</td>\n",
              "      <td>...</td>\n",
              "      <td>...</td>\n",
              "      <td>...</td>\n",
              "      <td>...</td>\n",
              "      <td>...</td>\n",
              "      <td>...</td>\n",
              "      <td>...</td>\n",
              "      <td>...</td>\n",
              "      <td>...</td>\n",
              "      <td>...</td>\n",
              "      <td>...</td>\n",
              "      <td>...</td>\n",
              "      <td>...</td>\n",
              "    </tr>\n",
              "    <tr>\n",
              "      <th>571</th>\n",
              "      <td>683</td>\n",
              "      <td>0</td>\n",
              "      <td>2021-12-20</td>\n",
              "      <td>DE</td>\n",
              "      <td>683</td>\n",
              "      <td>61.0</td>\n",
              "      <td>0</td>\n",
              "      <td>0.0</td>\n",
              "      <td>12/22/2021 12:00:00 AM</td>\n",
              "      <td>Agree</td>\n",
              "      <td>Agree</td>\n",
              "      <td>13690.0</td>\n",
              "      <td>151575.0</td>\n",
              "      <td>2053.0</td>\n",
              "      <td>189.0</td>\n",
              "      <td>165265</td>\n",
              "      <td>2242</td>\n",
              "    </tr>\n",
              "    <tr>\n",
              "      <th>572</th>\n",
              "      <td>541</td>\n",
              "      <td>7</td>\n",
              "      <td>2021-12-21</td>\n",
              "      <td>DE</td>\n",
              "      <td>541</td>\n",
              "      <td>35.0</td>\n",
              "      <td>7</td>\n",
              "      <td>0.0</td>\n",
              "      <td>12/23/2021 12:00:00 AM</td>\n",
              "      <td>Agree</td>\n",
              "      <td>Agree</td>\n",
              "      <td>13725.0</td>\n",
              "      <td>152081.0</td>\n",
              "      <td>2060.0</td>\n",
              "      <td>189.0</td>\n",
              "      <td>165806</td>\n",
              "      <td>2249</td>\n",
              "    </tr>\n",
              "    <tr>\n",
              "      <th>573</th>\n",
              "      <td>665</td>\n",
              "      <td>0</td>\n",
              "      <td>2021-12-22</td>\n",
              "      <td>DE</td>\n",
              "      <td>665</td>\n",
              "      <td>38.0</td>\n",
              "      <td>0</td>\n",
              "      <td>0.0</td>\n",
              "      <td>12/24/2021 12:00:00 AM</td>\n",
              "      <td>Agree</td>\n",
              "      <td>Agree</td>\n",
              "      <td>13763.0</td>\n",
              "      <td>152708.0</td>\n",
              "      <td>2060.0</td>\n",
              "      <td>189.0</td>\n",
              "      <td>166471</td>\n",
              "      <td>2249</td>\n",
              "    </tr>\n",
              "    <tr>\n",
              "      <th>574</th>\n",
              "      <td>451</td>\n",
              "      <td>0</td>\n",
              "      <td>2021-12-27</td>\n",
              "      <td>DE</td>\n",
              "      <td>451</td>\n",
              "      <td>37.0</td>\n",
              "      <td>0</td>\n",
              "      <td>0.0</td>\n",
              "      <td>12/29/2021 12:00:00 AM</td>\n",
              "      <td>Agree</td>\n",
              "      <td>Agree</td>\n",
              "      <td>14353.0</td>\n",
              "      <td>157901.0</td>\n",
              "      <td>2080.0</td>\n",
              "      <td>191.0</td>\n",
              "      <td>172254</td>\n",
              "      <td>2271</td>\n",
              "    </tr>\n",
              "    <tr>\n",
              "      <th>575</th>\n",
              "      <td>621</td>\n",
              "      <td>5</td>\n",
              "      <td>2021-12-28</td>\n",
              "      <td>DE</td>\n",
              "      <td>621</td>\n",
              "      <td>48.0</td>\n",
              "      <td>5</td>\n",
              "      <td>0.0</td>\n",
              "      <td>12/30/2021 12:00:00 AM</td>\n",
              "      <td>Agree</td>\n",
              "      <td>Agree</td>\n",
              "      <td>14401.0</td>\n",
              "      <td>158474.0</td>\n",
              "      <td>2085.0</td>\n",
              "      <td>191.0</td>\n",
              "      <td>172875</td>\n",
              "      <td>2276</td>\n",
              "    </tr>\n",
              "  </tbody>\n",
              "</table>\n",
              "<p>66 rows × 17 columns</p>\n",
              "</div>\n",
              "      <button class=\"colab-df-convert\" onclick=\"convertToInteractive('df-51e8bacb-4848-41d4-9930-85efc9a9548c')\"\n",
              "              title=\"Convert this dataframe to an interactive table.\"\n",
              "              style=\"display:none;\">\n",
              "        \n",
              "  <svg xmlns=\"http://www.w3.org/2000/svg\" height=\"24px\"viewBox=\"0 0 24 24\"\n",
              "       width=\"24px\">\n",
              "    <path d=\"M0 0h24v24H0V0z\" fill=\"none\"/>\n",
              "    <path d=\"M18.56 5.44l.94 2.06.94-2.06 2.06-.94-2.06-.94-.94-2.06-.94 2.06-2.06.94zm-11 1L8.5 8.5l.94-2.06 2.06-.94-2.06-.94L8.5 2.5l-.94 2.06-2.06.94zm10 10l.94 2.06.94-2.06 2.06-.94-2.06-.94-.94-2.06-.94 2.06-2.06.94z\"/><path d=\"M17.41 7.96l-1.37-1.37c-.4-.4-.92-.59-1.43-.59-.52 0-1.04.2-1.43.59L10.3 9.45l-7.72 7.72c-.78.78-.78 2.05 0 2.83L4 21.41c.39.39.9.59 1.41.59.51 0 1.02-.2 1.41-.59l7.78-7.78 2.81-2.81c.8-.78.8-2.07 0-2.86zM5.41 20L4 18.59l7.72-7.72 1.47 1.35L5.41 20z\"/>\n",
              "  </svg>\n",
              "      </button>\n",
              "      \n",
              "  <style>\n",
              "    .colab-df-container {\n",
              "      display:flex;\n",
              "      flex-wrap:wrap;\n",
              "      gap: 12px;\n",
              "    }\n",
              "\n",
              "    .colab-df-convert {\n",
              "      background-color: #E8F0FE;\n",
              "      border: none;\n",
              "      border-radius: 50%;\n",
              "      cursor: pointer;\n",
              "      display: none;\n",
              "      fill: #1967D2;\n",
              "      height: 32px;\n",
              "      padding: 0 0 0 0;\n",
              "      width: 32px;\n",
              "    }\n",
              "\n",
              "    .colab-df-convert:hover {\n",
              "      background-color: #E2EBFA;\n",
              "      box-shadow: 0px 1px 2px rgba(60, 64, 67, 0.3), 0px 1px 3px 1px rgba(60, 64, 67, 0.15);\n",
              "      fill: #174EA6;\n",
              "    }\n",
              "\n",
              "    [theme=dark] .colab-df-convert {\n",
              "      background-color: #3B4455;\n",
              "      fill: #D2E3FC;\n",
              "    }\n",
              "\n",
              "    [theme=dark] .colab-df-convert:hover {\n",
              "      background-color: #434B5C;\n",
              "      box-shadow: 0px 1px 3px 1px rgba(0, 0, 0, 0.15);\n",
              "      filter: drop-shadow(0px 1px 2px rgba(0, 0, 0, 0.3));\n",
              "      fill: #FFFFFF;\n",
              "    }\n",
              "  </style>\n",
              "\n",
              "      <script>\n",
              "        const buttonEl =\n",
              "          document.querySelector('#df-51e8bacb-4848-41d4-9930-85efc9a9548c button.colab-df-convert');\n",
              "        buttonEl.style.display =\n",
              "          google.colab.kernel.accessAllowed ? 'block' : 'none';\n",
              "\n",
              "        async function convertToInteractive(key) {\n",
              "          const element = document.querySelector('#df-51e8bacb-4848-41d4-9930-85efc9a9548c');\n",
              "          const dataTable =\n",
              "            await google.colab.kernel.invokeFunction('convertToInteractive',\n",
              "                                                     [key], {});\n",
              "          if (!dataTable) return;\n",
              "\n",
              "          const docLinkHtml = 'Like what you see? Visit the ' +\n",
              "            '<a target=\"_blank\" href=https://colab.research.google.com/notebooks/data_table.ipynb>data table notebook</a>'\n",
              "            + ' to learn more about interactive tables.';\n",
              "          element.innerHTML = '';\n",
              "          dataTable['output_type'] = 'display_data';\n",
              "          await google.colab.output.renderOutput(dataTable, element);\n",
              "          const docLink = document.createElement('div');\n",
              "          docLink.innerHTML = docLinkHtml;\n",
              "          element.appendChild(docLink);\n",
              "        }\n",
              "      </script>\n",
              "    </div>\n",
              "  </div>\n",
              "  "
            ]
          },
          "metadata": {},
          "execution_count": 194
        }
      ],
      "source": [
        "three_month_de_data"
      ]
    },
    {
      "cell_type": "code",
      "execution_count": 195,
      "metadata": {
        "id": "e4ryizsOOpIW"
      },
      "outputs": [],
      "source": [
        "def MME(type, X):\n",
        "  if type == 'poisson':\n",
        "    return np.mean(X)\n",
        "  elif type == 'binomial':\n",
        "    m = np.mean(X)\n",
        "    v = np.var(X)\n",
        "    return 1 - (v/m), m / (1 - (v/m))\n",
        "  elif type == 'geometric':\n",
        "    return 1 / np.mean(X)\n"
      ]
    },
    {
      "cell_type": "code",
      "execution_count": 196,
      "metadata": {
        "id": "atHygsvuP6AS"
      },
      "outputs": [],
      "source": [
        "def generate_CDF(type, X, params):\n",
        "  if type == 'poisson':\n",
        "    return poisson.cdf(X, params[0])\n",
        "  elif type == 'binomial':\n",
        "    return binom.cdf(X, params[0], params[1])\n",
        "  elif type == 'geometric':\n",
        "    return geom.cdf(X, params[0])\n",
        "\n",
        "\n"
      ]
    },
    {
      "cell_type": "code",
      "execution_count": 197,
      "metadata": {
        "id": "CqRKa1VKLMrl"
      },
      "outputs": [],
      "source": [
        "def generate_eCDF(X):\n",
        "  n = len(X)\n",
        "  Srt = sorted(X)\n",
        "  delta = .1\n",
        "  X = [min(Srt)-delta]\n",
        "  Y = [0]\n",
        "  for i in range(0, n):\n",
        "      X = X + [Srt[i], Srt[i]]\n",
        "      Y = Y + [Y[len(Y)-1], Y[len(Y)-1]+(1/n)]\n",
        "  X = X + [max(Srt)+delta]\n",
        "  # print(X)\n",
        "  Y = Y + [1]\n",
        "  return X, Y"
      ]
    },
    {
      "cell_type": "code",
      "execution_count": 198,
      "metadata": {
        "id": "D-NDFibtISlv"
      },
      "outputs": [],
      "source": [
        "def ks_test_1_sample(X1,Y1, cdf_function, parameter):\n",
        "    tot_max = -1\n",
        "    ks_table = np.zeros((len(X1),4))\n",
        "    for i in range(len(ks_table)-1):\n",
        "        ks_table[i,0] = Y1[i]\n",
        "        ks_table[i,1] = Y1[i+1]\n",
        "        F_x = generate_CDF(cdf_function, X1[i], parameter)\n",
        "        ks_table[i,2] = abs(ks_table[i,0] - F_x)\n",
        "        ks_table[i,3] = abs(ks_table[i,1] - F_x)\n",
        "        cmax = max(ks_table[i,2], ks_table[i,3])\n",
        "        if cmax > tot_max:\n",
        "            tot_max = cmax\n",
        "    return tot_max"
      ]
    },
    {
      "cell_type": "markdown",
      "metadata": {
        "id": "KSTOH7B1ROoF"
      },
      "source": [
        "#1-sample KS Test for number of cases"
      ]
    },
    {
      "cell_type": "markdown",
      "source": [
        "# We utilize the data from Delaware state to calculate the parameters for the distributions and then use the data from the Idaho state to see if they have the same distribution."
      ],
      "metadata": {
        "id": "5Iq3NFHX2NCw"
      }
    },
    {
      "cell_type": "markdown",
      "metadata": {
        "id": "KCE4VmecYfHG"
      },
      "source": [
        "# Geometric"
      ]
    },
    {
      "cell_type": "code",
      "execution_count": 199,
      "metadata": {
        "id": "rX3Qy1o6Jdk6"
      },
      "outputs": [],
      "source": [
        "p_est = MME('geometric', three_month_de_data['tot_cases'])"
      ]
    },
    {
      "cell_type": "code",
      "execution_count": 200,
      "metadata": {
        "colab": {
          "base_uri": "https://localhost:8080/"
        },
        "id": "1JfMOD5tMRis",
        "outputId": "b373232d-3220-45cc-a7ef-87e395d94a1e"
      },
      "outputs": [
        {
          "output_type": "stream",
          "name": "stdout",
          "text": [
            "Geometric estimate 0.002589250686543743\n"
          ]
        }
      ],
      "source": [
        "print('Geometric estimate', p_est)"
      ]
    },
    {
      "cell_type": "code",
      "execution_count": 201,
      "metadata": {
        "id": "GZ6oIoDRUR2D"
      },
      "outputs": [],
      "source": [
        "idaho_X, idaho_Y = generate_eCDF(three_month_id_data['tot_cases'])"
      ]
    },
    {
      "cell_type": "code",
      "execution_count": 202,
      "metadata": {
        "colab": {
          "base_uri": "https://localhost:8080/"
        },
        "id": "oglTIN5FUxPQ",
        "outputId": "0f720f2b-aa59-4a97-f171-3dad0fd08843"
      },
      "outputs": [
        {
          "output_type": "stream",
          "name": "stdout",
          "text": [
            "0.21967884963185352\n"
          ]
        }
      ],
      "source": [
        "print(ks_test_1_sample(idaho_X, idaho_Y, 'geometric', [p_est]))"
      ]
    },
    {
      "cell_type": "markdown",
      "metadata": {
        "id": "KZjXjhJ2Ymmo"
      },
      "source": [
        "#Poisson"
      ]
    },
    {
      "cell_type": "code",
      "execution_count": 203,
      "metadata": {
        "id": "OYEOl6p_Yk8P"
      },
      "outputs": [],
      "source": [
        "lambda_est = MME('poisson', three_month_de_data['tot_cases'])"
      ]
    },
    {
      "cell_type": "code",
      "execution_count": 204,
      "metadata": {
        "colab": {
          "base_uri": "https://localhost:8080/"
        },
        "id": "_JvIyxD9ZrZX",
        "outputId": "d0d9db1a-54ef-4429-d28e-bc608301d9a2"
      },
      "outputs": [
        {
          "output_type": "stream",
          "name": "stdout",
          "text": [
            "Poisson estimate 386.2121212121212\n"
          ]
        }
      ],
      "source": [
        "print('Poisson estimate', lambda_est)"
      ]
    },
    {
      "cell_type": "code",
      "execution_count": 205,
      "metadata": {
        "id": "nk0plK3oZrZX"
      },
      "outputs": [],
      "source": [
        "idaho_X, idaho_Y = generate_eCDF(three_month_id_data['tot_cases'])"
      ]
    },
    {
      "cell_type": "code",
      "execution_count": 206,
      "metadata": {
        "colab": {
          "base_uri": "https://localhost:8080/"
        },
        "id": "M583B7H5ZrZX",
        "outputId": "a056a815-cf7a-4dee-b55a-e33de0135cb2"
      },
      "outputs": [
        {
          "output_type": "stream",
          "name": "stdout",
          "text": [
            "0.47461437726653877\n"
          ]
        }
      ],
      "source": [
        "print(ks_test_1_sample(idaho_X, idaho_Y, 'poisson', [lambda_est]))"
      ]
    },
    {
      "cell_type": "code",
      "execution_count": 207,
      "metadata": {
        "colab": {
          "base_uri": "https://localhost:8080/"
        },
        "id": "r1alyCS0Yk8P",
        "outputId": "4c34d1fd-f2fd-4038-fa9b-3055e6d20503"
      },
      "outputs": [
        {
          "output_type": "stream",
          "name": "stdout",
          "text": [
            "Poisson estimate 386.2121212121212\n"
          ]
        }
      ],
      "source": [
        "print('Poisson estimate', lambda_est)"
      ]
    },
    {
      "cell_type": "markdown",
      "metadata": {
        "id": "LTFXuo-SaGnM"
      },
      "source": [
        "#Binomial\n"
      ]
    },
    {
      "cell_type": "code",
      "execution_count": 208,
      "metadata": {
        "id": "kHuRJcOSaOU7"
      },
      "outputs": [],
      "source": [
        "n_est, p_est = MME('binomial', three_month_de_data['tot_cases'])"
      ]
    },
    {
      "cell_type": "code",
      "execution_count": 209,
      "metadata": {
        "colab": {
          "base_uri": "https://localhost:8080/"
        },
        "id": "-AuevknJaOU8",
        "outputId": "8d7abcaf-d2f8-4fd9-869c-090384e75768"
      },
      "outputs": [
        {
          "output_type": "stream",
          "name": "stdout",
          "text": [
            "Binomial estimates -74.49239036104476 -5.1845848863253545\n"
          ]
        }
      ],
      "source": [
        "print('Binomial estimates', n_est, p_est)"
      ]
    },
    {
      "cell_type": "code",
      "execution_count": 210,
      "metadata": {
        "id": "iZ2cQiFcaOU8"
      },
      "outputs": [],
      "source": [
        "idaho_X, idaho_Y = generate_eCDF(three_month_id_data['tot_cases'])"
      ]
    },
    {
      "cell_type": "code",
      "execution_count": 211,
      "metadata": {
        "colab": {
          "base_uri": "https://localhost:8080/"
        },
        "id": "37EhJfk3aOU8",
        "outputId": "0bc156e9-1432-410d-b491-8afd9e63233b"
      },
      "outputs": [
        {
          "output_type": "stream",
          "name": "stdout",
          "text": [
            "1.0\n"
          ]
        }
      ],
      "source": [
        "print(ks_test_1_sample(idaho_X, idaho_Y, 'binomial', [n_est, p_est]))"
      ]
    },
    {
      "cell_type": "markdown",
      "source": [
        "**Inference of 1-sample KS Test for number of cases**\n",
        "The KS statistic suggests the the hypothesis that the samples for Idaho state have the same distribution as the one calculated using MME estimates is rejected for all the three distributions - Poisson, Geometric and Binomial."
      ],
      "metadata": {
        "id": "Z9iC6rNE2xXc"
      }
    },
    {
      "cell_type": "markdown",
      "metadata": {
        "id": "aIp2ozTMcIQK"
      },
      "source": [
        "#1-sample KS Test for number of deaths"
      ]
    },
    {
      "cell_type": "markdown",
      "metadata": {
        "id": "6dRdXwoacIQL"
      },
      "source": [
        "# Geometric"
      ]
    },
    {
      "cell_type": "code",
      "execution_count": 212,
      "metadata": {
        "id": "-3rhtElOcIQL"
      },
      "outputs": [],
      "source": [
        "p_est = MME('geometric', three_month_de_data['tot_death'])"
      ]
    },
    {
      "cell_type": "code",
      "execution_count": 213,
      "metadata": {
        "colab": {
          "base_uri": "https://localhost:8080/"
        },
        "id": "-4LYPqPvcIQL",
        "outputId": "476e02cb-7666-43a1-8ebd-aa86fa1f5c77"
      },
      "outputs": [
        {
          "output_type": "stream",
          "name": "stdout",
          "text": [
            "Geometric estimate 0.6226415094339623\n"
          ]
        }
      ],
      "source": [
        "print('Geometric estimate', p_est)"
      ]
    },
    {
      "cell_type": "code",
      "execution_count": 214,
      "metadata": {
        "id": "aBeBe9zacIQL"
      },
      "outputs": [],
      "source": [
        "idaho_X, idaho_Y = generate_eCDF(three_month_id_data['tot_death'])"
      ]
    },
    {
      "cell_type": "code",
      "execution_count": 215,
      "metadata": {
        "colab": {
          "base_uri": "https://localhost:8080/"
        },
        "id": "Su6tcUzdcIQM",
        "outputId": "1ba19e99-1ae3-41df-bb54-c696bfbf2dab"
      },
      "outputs": [
        {
          "output_type": "stream",
          "name": "stdout",
          "text": [
            "0.5018199214414883\n"
          ]
        }
      ],
      "source": [
        "print(ks_test_1_sample(idaho_X, idaho_Y, 'geometric', [p_est]))"
      ]
    },
    {
      "cell_type": "markdown",
      "metadata": {
        "id": "FZCdK_FucIQM"
      },
      "source": [
        "#Poisson"
      ]
    },
    {
      "cell_type": "code",
      "execution_count": 216,
      "metadata": {
        "id": "ceeSCQVKcIQM"
      },
      "outputs": [],
      "source": [
        "lambda_est = MME('poisson', three_month_de_data['tot_death'])"
      ]
    },
    {
      "cell_type": "code",
      "execution_count": 217,
      "metadata": {
        "id": "NBl1_s8KcIQM"
      },
      "outputs": [],
      "source": [
        "lambda_est = MME('poisson', three_month_de_data['tot_death'])"
      ]
    },
    {
      "cell_type": "code",
      "execution_count": 218,
      "metadata": {
        "colab": {
          "base_uri": "https://localhost:8080/"
        },
        "id": "KZxPRSLbcIQM",
        "outputId": "68556918-eb8f-4951-88d1-e40f4ec388f0"
      },
      "outputs": [
        {
          "output_type": "stream",
          "name": "stdout",
          "text": [
            "Poisson estimate 1.606060606060606\n"
          ]
        }
      ],
      "source": [
        "print('Poisson estimate', lambda_est)"
      ]
    },
    {
      "cell_type": "code",
      "execution_count": 219,
      "metadata": {
        "id": "R35u8u_YcIQM"
      },
      "outputs": [],
      "source": [
        "idaho_X, idaho_Y = generate_eCDF(three_month_id_data['tot_death'])"
      ]
    },
    {
      "cell_type": "code",
      "execution_count": 220,
      "metadata": {
        "colab": {
          "base_uri": "https://localhost:8080/"
        },
        "id": "6Q7liyIZcIQM",
        "outputId": "f37d42fa-9e96-4962-99f3-8cd75316bc6e"
      },
      "outputs": [
        {
          "output_type": "stream",
          "name": "stdout",
          "text": [
            "0.4859155896347853\n"
          ]
        }
      ],
      "source": [
        "print(ks_test_1_sample(idaho_X, idaho_Y, 'poisson', [lambda_est]))"
      ]
    },
    {
      "cell_type": "markdown",
      "metadata": {
        "id": "64ygYTG0cIQN"
      },
      "source": [
        "#Binomial\n"
      ]
    },
    {
      "cell_type": "code",
      "execution_count": 221,
      "metadata": {
        "id": "DWPRohSLcIQN"
      },
      "outputs": [],
      "source": [
        "n_est, p_est = MME('binomial', three_month_de_data['tot_death'])\n"
      ]
    },
    {
      "cell_type": "code",
      "execution_count": 222,
      "metadata": {
        "colab": {
          "base_uri": "https://localhost:8080/"
        },
        "id": "yrRkP4r-cIQN",
        "outputId": "0d524c4a-e8da-4edc-9e9f-040ae4dd6ca2"
      },
      "outputs": [
        {
          "output_type": "stream",
          "name": "stdout",
          "text": [
            "Binomial estimates -2.073184676958265 -0.7746828461114164\n"
          ]
        }
      ],
      "source": [
        "print('Binomial estimates', n_est, p_est)"
      ]
    },
    {
      "cell_type": "code",
      "execution_count": 223,
      "metadata": {
        "id": "hiK35NH9cIQN"
      },
      "outputs": [],
      "source": [
        "idaho_X, idaho_Y = generate_eCDF(three_month_id_data['tot_death'])"
      ]
    },
    {
      "cell_type": "code",
      "execution_count": 224,
      "metadata": {
        "colab": {
          "base_uri": "https://localhost:8080/"
        },
        "id": "vrkuE91XcIQN",
        "outputId": "5c16a8bb-b563-4070-eef3-3ff45a3befbb"
      },
      "outputs": [
        {
          "output_type": "stream",
          "name": "stdout",
          "text": [
            "1.0\n"
          ]
        }
      ],
      "source": [
        "print(ks_test_1_sample(idaho_X, idaho_Y, 'binomial', [n_est, p_est]))"
      ]
    },
    {
      "cell_type": "markdown",
      "source": [
        "**Inference of 1-sample KS Test for number of deaths**\n",
        "The KS statistic suggests the the hypothesis that the samples for Idaho state have the same distribution as the one calculated using MME estimates is rejected for all the three distributions - Poisson, Geometric and Binomial."
      ],
      "metadata": {
        "id": "nY26YW6R3y6W"
      }
    },
    {
      "cell_type": "code",
      "execution_count": 225,
      "metadata": {
        "id": "VJmL9V5xeTka"
      },
      "outputs": [],
      "source": [
        "def ks_test_2_sample(X1, Y1, X2, Y2):\n",
        "    tot_max = -1\n",
        "    ks_table = np.zeros((len(X1),6))\n",
        "    for i in range(len(ks_table)-1):\n",
        "        ks_table[i,0] = Y1[i]\n",
        "        ks_table[i,1] = Y1[i+1]\n",
        "        ks_table[i,2]=0\n",
        "        ks_table[i,3]=0\n",
        "        for j in X2:\n",
        "            if j<X1[i]:\n",
        "                ks_table[i,2]+=1\n",
        "            if j<=X1[i]:\n",
        "                ks_table[i,3]+=1\n",
        "\n",
        "        ks_table[i,3]/=len(X2)\n",
        "        ks_table[i,2]/=len(X2)\n",
        "\n",
        "        ks_table[i,4] = abs(ks_table[i,0] - ks_table[i,2])\n",
        "        ks_table[i,5] = abs(ks_table[i,1] - ks_table[i,3])\n",
        "        cmax = max(ks_table[i,4], ks_table[i,5])\n",
        "        if cmax > tot_max:\n",
        "            tot_max = cmax\n",
        "            x1_max = X1[i]\n",
        "            y1_max = ks_table[i,0]\n",
        "            y2_max = ks_table[i,2]\n",
        "    return tot_max\n",
        "    "
      ]
    },
    {
      "cell_type": "markdown",
      "metadata": {
        "id": "FnDl-JKJeJ-7"
      },
      "source": [
        "# 2-sample KS Test for number of cases"
      ]
    },
    {
      "cell_type": "code",
      "execution_count": 226,
      "metadata": {
        "id": "CF6jxTRJeUYx"
      },
      "outputs": [],
      "source": [
        "delaware_X, delaware_Y = generate_eCDF(three_month_de_data['tot_cases'])\n",
        "idaho_X, idaho_Y = generate_eCDF(three_month_id_data['tot_cases'])"
      ]
    },
    {
      "cell_type": "code",
      "execution_count": 227,
      "metadata": {
        "colab": {
          "base_uri": "https://localhost:8080/"
        },
        "id": "sS0xOt1cfLjO",
        "outputId": "5f37caf1-f3ef-4873-aa68-5d5c17672a5c"
      },
      "outputs": [
        {
          "output_type": "stream",
          "name": "stdout",
          "text": [
            "0.21141098484848486\n"
          ]
        }
      ],
      "source": [
        "print(ks_test_2_sample(delaware_X, delaware_Y, idaho_X, idaho_Y))"
      ]
    },
    {
      "cell_type": "markdown",
      "source": [
        "**Inference of 2-sample KS Test for number of cases**\n",
        "The KS statistic suggests the the hypothesis that the samples for Idaho state have the same distribution as the samples from the state of Delaware is rejected."
      ],
      "metadata": {
        "id": "wWzSD4S638nX"
      }
    },
    {
      "cell_type": "markdown",
      "metadata": {
        "id": "gIXdC0i_hV5e"
      },
      "source": [
        "# 2-sample KS Test for number of deaths"
      ]
    },
    {
      "cell_type": "code",
      "execution_count": 228,
      "metadata": {
        "id": "83T3lsELhV5f"
      },
      "outputs": [],
      "source": [
        "delaware_X, delaware_Y = generate_eCDF(three_month_de_data['tot_death'])\n",
        "idaho_X, idaho_Y = generate_eCDF(three_month_id_data['tot_death'])"
      ]
    },
    {
      "cell_type": "code",
      "execution_count": 229,
      "metadata": {
        "colab": {
          "base_uri": "https://localhost:8080/"
        },
        "id": "y15gjnlhhV5f",
        "outputId": "d425a84a-ea72-4a0b-9a55-3cce7b5d1c53"
      },
      "outputs": [
        {
          "output_type": "stream",
          "name": "stdout",
          "text": [
            "0.5523200757575754\n"
          ]
        }
      ],
      "source": [
        "print(ks_test_2_sample(delaware_X, delaware_Y, idaho_X, idaho_Y))"
      ]
    },
    {
      "cell_type": "markdown",
      "source": [
        "**Inference of 2-sample KS Test for number of deaths**\n",
        "The KS statistic suggests the the hypothesis that the samples for Idaho state have the same distribution as the samples from the state of Delaware is rejected."
      ],
      "metadata": {
        "id": "RUEfs91s4Hv3"
      }
    },
    {
      "cell_type": "markdown",
      "metadata": {
        "id": "qYDAEJ_IxYd3"
      },
      "source": [
        "#Permutation Test"
      ]
    },
    {
      "cell_type": "markdown",
      "source": [
        "###Total Cases"
      ],
      "metadata": {
        "id": "nfCtD1aj4Py0"
      }
    },
    {
      "cell_type": "code",
      "execution_count": 230,
      "metadata": {
        "colab": {
          "base_uri": "https://localhost:8080/"
        },
        "id": "9PiYS1bUg6tQ",
        "outputId": "4dbd68ee-e5a4-41f0-a844-d228d3a0fade"
      },
      "outputs": [
        {
          "output_type": "stream",
          "name": "stdout",
          "text": [
            "p-value: 0.299\n",
            "Accept Null Hypothesis\n"
          ]
        }
      ],
      "source": [
        "d1=list(three_month_de_data['tot_cases'])\n",
        "d2=list(three_month_id_data['tot_cases'])\n",
        "d=d1+d2\n",
        "n=len(d1)\n",
        "m=len(d2)\n",
        "to=abs(mean(d1)-mean(d2))\n",
        "# l = list(permutations(d))\n",
        "# l=random.sample(l, 1000)\n",
        "c=0\n",
        "for j in range(1000):\n",
        "    l=np.random.permutation(d)\n",
        "    # print(l)\n",
        "    d1=l[:n]\n",
        "    d2=l[n:]\n",
        "    ti=abs(mean(d1)-mean(d2))\n",
        "    if(ti>to):\n",
        "        c+=1\n",
        "# print(c)\n",
        "print(\"p-value: {}\".format(c/1000))\n",
        "if c/1000>0.05:\n",
        "    print(\"Accept Null Hypothesis\")\n",
        "else:\n",
        "    print(\"Reject Null Hypothesis\")"
      ]
    },
    {
      "cell_type": "markdown",
      "source": [
        "Since p-value obtained from the permutation test is greater than the threshhold we accept the hypothesis that the samples of total cases of Idaho and Delaware have the same distribution"
      ],
      "metadata": {
        "id": "l-qiHyaw46xp"
      }
    },
    {
      "cell_type": "markdown",
      "source": [
        "###Total Deaths"
      ],
      "metadata": {
        "id": "OwW1fNXy4Wce"
      }
    },
    {
      "cell_type": "code",
      "execution_count": 231,
      "metadata": {
        "colab": {
          "base_uri": "https://localhost:8080/"
        },
        "id": "AUCozMQ43kqm",
        "outputId": "554a94ff-6b63-4303-8a53-35c1cada6e69"
      },
      "outputs": [
        {
          "output_type": "stream",
          "name": "stdout",
          "text": [
            "p-value: 0.0\n",
            "Reject Null Hypothesis\n"
          ]
        }
      ],
      "source": [
        "d1=list(three_month_de_data['tot_death'])\n",
        "d2=list(three_month_id_data['tot_death'])\n",
        "d=d1+d2\n",
        "n=len(d1)\n",
        "m=len(d2)\n",
        "to=abs(mean(d1)-mean(d2))\n",
        "# print(to)\n",
        "# l = list(permutations(d))\n",
        "# l=random.sample(l, 1000)\n",
        "c=0\n",
        "for j in range(1000):\n",
        "    l=np.random.permutation(d)\n",
        "    # print(l)\n",
        "    d1=l[:n]\n",
        "    d2=l[n:]\n",
        "    ti=abs(mean(d1)-mean(d2))\n",
        "    # print(ti)\n",
        "    if(ti>to):\n",
        "        c+=1\n",
        "# print(c)\n",
        "print(\"p-value: {}\".format(c/1000))\n",
        "if c/1000>0.05:\n",
        "    print(\"Accept Null Hypothesis\")\n",
        "else:\n",
        "    print(\"Reject Null Hypothesis\")"
      ]
    },
    {
      "cell_type": "markdown",
      "source": [
        "Since p-value obtained from the permutation test is less than the threshhold we reject the hypothesis that the samples of total deaths of Idaho and Delaware have the same distribution"
      ],
      "metadata": {
        "id": "0hGCoFYJ5cLn"
      }
    },
    {
      "cell_type": "markdown",
      "metadata": {
        "id": "t4ZmQh5a3YLA"
      },
      "source": [
        "#Q2C Bayesian Inference"
      ]
    },
    {
      "cell_type": "code",
      "execution_count": 232,
      "metadata": {
        "id": "THerWWm4z29f"
      },
      "outputs": [],
      "source": [
        "june_condition_de = (cases_df_id_de_daily_de_final['submission_date'] >= '2020-06-01') & (cases_df_id_de_daily_de_final['submission_date'] <= '2020-06-28')\n",
        "june_condition_id = (cases_df_id_de_daily_id_final['submission_date'] >= '2020-06-01') & (cases_df_id_de_daily_id_final['submission_date'] <= '2020-06-28')\n",
        "june_de_data = cases_df_id_de_daily_de_final.loc[june_condition_de]\n",
        "june_id_data = cases_df_id_de_daily_id_final.loc[june_condition_id]"
      ]
    },
    {
      "cell_type": "code",
      "execution_count": 233,
      "metadata": {
        "id": "Ji_6SfCy0Rsu"
      },
      "outputs": [],
      "source": [
        "rem_8weeks_de_cond = (cases_df_id_de_daily_de_final['submission_date'] >= '2020-06-29') & (cases_df_id_de_daily_de_final['submission_date'] <= '2020-07-28')\n",
        "rem_8weeks_id_cond = (cases_df_id_de_daily_id_final['submission_date'] >= '2020-06-29') & (cases_df_id_de_daily_id_final['submission_date'] <= '2020-07-28')\n",
        "rem_8weeks_de = cases_df_id_de_daily_de_final.loc[rem_8weeks_de_cond]\n",
        "rem_8weeks_id = cases_df_id_de_daily_id_final.loc[rem_8weeks_id_cond]"
      ]
    },
    {
      "cell_type": "code",
      "execution_count": 234,
      "metadata": {
        "colab": {
          "base_uri": "https://localhost:8080/",
          "height": 295
        },
        "id": "KSOm3fHgw7Tr",
        "outputId": "eca9c6a7-bc21-4373-f2af-9cf70fb196fe"
      },
      "outputs": [
        {
          "output_type": "display_data",
          "data": {
            "text/plain": [
              "<Figure size 432x288 with 1 Axes>"
            ],
            "image/png": "[encoded data removed]"
          },
          "metadata": {
            "needs_background": "light"
          }
        }
      ],
      "source": [
        "lambdaa=mean(list(june_de_data.tot_cases)+list(june_id_data.tot_cases))\n",
        "beta=1/mean(list(june_de_data.tot_cases)+list(june_id_data.tot_cases))\n",
        "likelihood_e=len(list(june_de_data.tot_cases)+list(june_id_data.tot_cases))\n",
        "likelihood_l=sum(list(june_de_data.tot_cases)+list(june_id_data.tot_cases))\n",
        "prior_e=beta\n",
        "prior_l=0\n",
        "post_vals=[]\n",
        "for i in range(4):\n",
        "    prior_l=likelihood_l+prior_l\n",
        "    prior_e=likelihood_e+prior_e\n",
        "    post_vals.append([prior_l+1,prior_e])\n",
        "    next_week=list(rem_8weeks_de.tot_cases)[i*7:7+i*7]+list(rem_8weeks_id.tot_cases[i*7:7+i*7])\n",
        "    likelihood_e=len(next_week)\n",
        "    likelihood_l=sum(next_week)\n",
        "    x = np.linspace(gamma.ppf(0.01, prior_l, scale=1/prior_e),gamma.ppf(0.99, prior_l,scale = 1/prior_e), 100)\n",
        "    MAP = x[np.argmax(gamma.pdf(x, prior_l+1,scale=1/prior_e))]\n",
        "    plt.plot(x, gamma.pdf(x, prior_l+1,scale=1/prior_e), label = 'MAP: %.4f ' %(MAP))\n",
        "plt.xlabel('x')\n",
        "plt.ylabel('pdf')\n",
        "plt.legend(loc=\"upper right\")\n",
        "plt.title('Gamma curves of estimates')\n",
        "plt.show()\n",
        "# print(post_vals)"
      ]
    },
    {
      "cell_type": "code",
      "execution_count": 235,
      "metadata": {
        "colab": {
          "base_uri": "https://localhost:8080/",
          "height": 295
        },
        "id": "y78hAd2kFpVl",
        "outputId": "8dbc6c2d-054c-471e-d56d-ee3400f6e5c6"
      },
      "outputs": [
        {
          "output_type": "display_data",
          "data": {
            "text/plain": [
              "<Figure size 432x288 with 1 Axes>"
            ],
            "image/png": "[encoded data removed]"
          },
          "metadata": {
            "needs_background": "light"
          }
        }
      ],
      "source": [
        "lambdaa=mean(list(june_de_data.tot_death)+list(june_id_data.tot_death))\n",
        "beta=1/mean(list(june_de_data.tot_death)+list(june_id_data.tot_death))\n",
        "likelihood_e=len(list(june_de_data.tot_death)+list(june_id_data.tot_death))\n",
        "likelihood_l=sum(list(june_de_data.tot_death)+list(june_id_data.tot_death))\n",
        "prior_e=beta\n",
        "prior_l=0\n",
        "post_vals=[]\n",
        "for i in range(4):\n",
        "    prior_l=likelihood_l+prior_l\n",
        "    prior_e=likelihood_e+prior_e\n",
        "    post_vals.append([prior_l+1,prior_e])\n",
        "    next_week=list(rem_8weeks_de.tot_cases)[i*7:7+i*7]+list(rem_8weeks_id.tot_cases[i*7:7+i*7])\n",
        "    likelihood_e=len(next_week)\n",
        "    likelihood_l=sum(next_week)\n",
        "    x = np.linspace(gamma.ppf(0.01, prior_l, scale=1/prior_e),gamma.ppf(0.99, prior_l,scale = 1/prior_e), 100)\n",
        "    MAP = x[np.argmax(gamma.pdf(x, prior_l+1,scale=1/prior_e))]\n",
        "    plt.plot(x, gamma.pdf(x, prior_l+1,scale=1/prior_e), label = 'MAP: %.4f ' %(MAP))\n",
        "plt.xlabel('x')\n",
        "plt.ylabel('pdf')\n",
        "plt.legend(loc=\"upper right\")\n",
        "plt.title('Gamma curves of estimates')\n",
        "plt.show()\n",
        "# print(post_vals)"
      ]
    },
    {
      "cell_type": "markdown",
      "source": [
        "#Q2D"
      ],
      "metadata": {
        "id": "g4nYHeB_Ekoh"
      }
    },
    {
      "cell_type": "markdown",
      "source": [
        "#Auto Regression"
      ],
      "metadata": {
        "id": "s2ucHjs5rS9F"
      }
    },
    {
      "cell_type": "code",
      "execution_count": 236,
      "metadata": {
        "id": "PJ9SoAMyBeOJ"
      },
      "outputs": [],
      "source": [
        "may_condition_de = (vaccine_daily_de['Date'] >= '2021-05-01') & (vaccine_daily_de['Date'] <= '2021-05-21')\n",
        "may_condition_id = (vaccine_daily_id['Date'] >= '2021-05-01') & (vaccine_daily_id['Date'] <= '2021-05-21')\n",
        "may_de_data_3week = list(vaccine_daily_de.loc[may_condition_de].Administered_new)\n",
        "may_id_data_3week = list(vaccine_daily_id.loc[may_condition_id].Administered_new)\n",
        "\n",
        "\n",
        "may_condition_de = (vaccine_daily_de['Date'] >= '2021-05-22') & (vaccine_daily_de['Date'] <= '2021-05-28')\n",
        "may_condition_id = (vaccine_daily_id['Date'] >= '2021-05-22') & (vaccine_daily_id['Date'] <= '2021-05-28')\n",
        "may_de_data_fweek = list(vaccine_daily_de.loc[may_condition_de].Administered_new)\n",
        "may_id_data_fweek = list(vaccine_daily_id.loc[may_condition_id].Administered_new)"
      ]
    },
    {
      "cell_type": "code",
      "execution_count": 237,
      "metadata": {
        "id": "QRpurXHnljdP"
      },
      "outputs": [],
      "source": [
        "def Mape(pred_list,data_fweek):\n",
        "    mape=0\n",
        "    for i in range(len(data_fweek)):\n",
        "        mape+=abs(data_fweek[i]-pred_list[i])*100/data_fweek[i]\n",
        "        # print(mape)\n",
        "    return mape/len(pred_list)"
      ]
    },
    {
      "cell_type": "code",
      "execution_count": 238,
      "metadata": {
        "id": "gupILWXjl7Uz"
      },
      "outputs": [],
      "source": [
        "def SSE(pred_list,data_fweek):\n",
        "    sse=0\n",
        "    for i in range(len(data_fweek)):\n",
        "        sse+=(data_fweek[i]-pred_list[i])**2\n",
        "    return sse"
      ]
    },
    {
      "cell_type": "code",
      "execution_count": 239,
      "metadata": {
        "id": "gL4VbvUHoJp9"
      },
      "outputs": [],
      "source": [
        "def AR(X,data,n,data_fweek):\n",
        "    Y = data[n:]\n",
        "    beta = np.matmul(np.matmul(np.linalg.inv(np.matmul(np.transpose(X), X)), np.transpose(X)), Y)\n",
        "    X=np.array(data[21-n:])\n",
        "    pred_list=[]\n",
        "    for i in range(7):\n",
        "        X_new=np.concatenate((np.array([1]),np.array(X)))\n",
        "        # print(X_new)\n",
        "        pred=np.matmul(X_new,np.transpose(beta))\n",
        "        pred_list.append(pred)\n",
        "        X=X[1:]\n",
        "        X=np.append(X,np.array([pred]))\n",
        "    mape=Mape(pred_list,data_fweek)\n",
        "    sse=SSE(pred_list,data_fweek)\n",
        "    print(\"Predicted values {}\".format(pred_list))\n",
        "    print(\"MAPE: {}\".format(mape))\n",
        "    print(\"SSE: {}\".format(sse))\n",
        "\n",
        "\n"
      ]
    },
    {
      "cell_type": "markdown",
      "metadata": {
        "id": "vsPpTNXSqpul"
      },
      "source": [
        "##Delaware"
      ]
    },
    {
      "cell_type": "code",
      "execution_count": 240,
      "metadata": {
        "colab": {
          "base_uri": "https://localhost:8080/"
        },
        "id": "Bn46deEdW5T2",
        "outputId": "7945bb2f-fb0d-40b2-ced4-83b39bb6b155"
      },
      "outputs": [
        {
          "output_type": "stream",
          "name": "stdout",
          "text": [
            "Predicted values [5245.135173350598, 6074.488106027009, 5315.767157849295, 5668.735335358822, 5468.034418022151, 5602.7832622426195, 5531.740767125458]\n",
            "MAPE: 39.301140146419925\n",
            "SSE: 58853067.72178812\n"
          ]
        }
      ],
      "source": [
        "X = np.zeros((len(may_de_data_3week) - 3, 4))\n",
        "for i in range(3, len(may_de_data_3week)):\n",
        "  X[i-3][0] = 1\n",
        "  X[i-3][1] = may_de_data_3week[i-1]\n",
        "  X[i-3][2] = may_de_data_3week[i-2]\n",
        "  X[i-3][3] = may_de_data_3week[i-3]\n",
        "# print(X)\n",
        "AR(X,may_de_data_3week,3,may_de_data_fweek)"
      ]
    },
    {
      "cell_type": "code",
      "execution_count": 241,
      "metadata": {
        "colab": {
          "base_uri": "https://localhost:8080/"
        },
        "id": "5i0Bf_ydqAUp",
        "outputId": "231f4cbf-bcac-48e2-e9ff-799abbbf99af"
      },
      "outputs": [
        {
          "output_type": "stream",
          "name": "stdout",
          "text": [
            "Predicted values [6857.69661758383, 5785.737156960024, 4854.509485437036, 6543.923710474235, 6078.440685476724, 5390.12640980446, 5426.535117905697]\n",
            "MAPE: 41.282178654379955\n",
            "SSE: 55904938.92663492\n"
          ]
        }
      ],
      "source": [
        "X = np.zeros((len(may_de_data_3week) - 5, 6))\n",
        "for i in range(3, len(may_de_data_3week)):\n",
        "  X[i-5][0] = 1\n",
        "  X[i-5][1] = may_de_data_3week[i-1]\n",
        "  X[i-5][2] = may_de_data_3week[i-2]\n",
        "  X[i-5][3] = may_de_data_3week[i-3]\n",
        "  X[i-5][4] = may_de_data_3week[i-4]\n",
        "  X[i-5][5] = may_de_data_3week[i-5]\n",
        "# print(X)\n",
        "AR(X,may_de_data_3week,5,may_de_data_fweek)"
      ]
    },
    {
      "cell_type": "markdown",
      "metadata": {
        "id": "XEkr68DmqmwY"
      },
      "source": [
        "##Idaho"
      ]
    },
    {
      "cell_type": "code",
      "execution_count": 242,
      "metadata": {
        "colab": {
          "base_uri": "https://localhost:8080/"
        },
        "id": "3qqzKgdKqkB3",
        "outputId": "88c5c94f-a0ff-4e35-d4e5-57b11e59c63d"
      },
      "outputs": [
        {
          "output_type": "stream",
          "name": "stdout",
          "text": [
            "Predicted values [5731.793677557751, 5685.969911465983, 5469.399906431885, 5341.457518041079, 5466.614318139787, 5546.920649589637, 5509.07078980633]\n",
            "MAPE: 69.39807336281974\n",
            "SSE: 31662624.053393118\n"
          ]
        }
      ],
      "source": [
        "X = np.zeros((len(may_id_data_3week) - 3, 4))\n",
        "for i in range(3, len(may_id_data_3week)):\n",
        "  X[i-3][0] = 1\n",
        "  X[i-3][1] = may_id_data_3week[i-1]\n",
        "  X[i-3][2] = may_id_data_3week[i-2]\n",
        "  X[i-3][3] = may_id_data_3week[i-3]\n",
        "# print(X)\n",
        "AR(X,may_id_data_3week,3,may_id_data_fweek)"
      ]
    },
    {
      "cell_type": "code",
      "execution_count": 243,
      "metadata": {
        "colab": {
          "base_uri": "https://localhost:8080/"
        },
        "id": "rBJOeqqYqktt",
        "outputId": "11928a2d-716a-4d50-93c1-aab2a0227172"
      },
      "outputs": [
        {
          "output_type": "stream",
          "name": "stdout",
          "text": [
            "Predicted values [7932.73158180788, 7243.634648882059, 5681.293730050635, 5365.94944179637, 4378.324687104982, 3954.838264066976, 4876.170986369067]\n",
            "MAPE: 58.47159547995818\n",
            "SSE: 25178959.06810081\n"
          ]
        }
      ],
      "source": [
        "X = np.zeros((len(may_id_data_3week) - 5, 6))\n",
        "for i in range(3, len(may_id_data_3week)):\n",
        "  X[i-5][0] = 1\n",
        "  X[i-5][1] = may_id_data_3week[i-1]\n",
        "  X[i-5][2] = may_id_data_3week[i-2]\n",
        "  X[i-5][3] = may_id_data_3week[i-3]\n",
        "  X[i-5][4] = may_id_data_3week[i-4]\n",
        "  X[i-5][5] = may_id_data_3week[i-5]\n",
        "# print(X)\n",
        "AR(X,may_id_data_3week,5,may_id_data_fweek)"
      ]
    },
    {
      "cell_type": "markdown",
      "source": [
        "#EWMA"
      ],
      "metadata": {
        "id": "sjfACIlyriMh"
      }
    },
    {
      "cell_type": "code",
      "execution_count": 244,
      "metadata": {
        "id": "yiqV2OxfmW29"
      },
      "outputs": [],
      "source": [
        "def EWMA(data,alpha,data_fweek):\n",
        "    data_c=copy.deepcopy(data)\n",
        "    data_c+=data_fweek\n",
        "    pred_list=[]\n",
        "    y_t_hat=data_c[0]\n",
        "    for j in range(28):\n",
        "        # print(data_c)\n",
        "        # ynew=0\n",
        "        # for i in range(0,len(data_c)):\n",
        "        #     ynew+=data_c[len(data_c)-(i+1)](1-alpha)*(i)\n",
        "        # ynew*=alpha\n",
        "        y_t=data_c[j]\n",
        "        y_t_hat = alpha*y_t + (1-alpha)*y_t_hat\n",
        "        pred_list.append(y_t_hat)\n",
        "        # print(len(pred_list))\n",
        "        # data_c.append(y_t_hat)\n",
        "    mape=Mape(pred_list[21:],data_fweek)\n",
        "    sse=SSE(pred_list[21:],data_fweek)\n",
        "    # print(data_fweek)\n",
        "    print(\"For alpha values: {}\".format(alpha))\n",
        "    print(\"Predicted values: {}\".format(pred_list[21:]))\n",
        "    print(\"MAPE: {}\".format(mape))\n",
        "    print(\"SSE: {}\".format(sse))\n"
      ]
    },
    {
      "cell_type": "markdown",
      "source": [
        "##Delaware"
      ],
      "metadata": {
        "id": "KD2ez1harozp"
      }
    },
    {
      "cell_type": "code",
      "execution_count": 245,
      "metadata": {
        "colab": {
          "base_uri": "https://localhost:8080/"
        },
        "id": "ZVtPVgJauTbg",
        "outputId": "bc1aeb53-9512-4f69-f62e-f1495943934e"
      },
      "outputs": [
        {
          "output_type": "stream",
          "name": "stdout",
          "text": [
            "For alpha values: 0.8\n",
            "Predicted values: [8849.40445625943, 8066.680891251885, 4790.9361782503765, 3829.387235650075, 3547.477447130015, 4787.895489426003, 9539.9790978852]\n",
            "MAPE: 8.00423366131092\n",
            "SSE: 2728957.4234906263\n",
            "\n",
            "For alpha values: 0.5\n",
            "Predicted values: [7284.087044715881, 7577.543522357941, 5774.77176117897, 4681.885880589485, 4079.4429402947426, 4588.721470147371, 7658.360735073686]\n",
            "MAPE: 22.711774652755118\n",
            "SSE: 19574796.35283082\n"
          ]
        }
      ],
      "source": [
        "EWMA(may_de_data_3week,0.8,may_de_data_fweek)\n",
        "print()\n",
        "EWMA(may_de_data_3week,0.5,may_de_data_fweek)"
      ]
    },
    {
      "cell_type": "markdown",
      "source": [
        "##Idaho"
      ],
      "metadata": {
        "id": "aAi3LswXruod"
      }
    },
    {
      "cell_type": "code",
      "execution_count": 246,
      "metadata": {
        "colab": {
          "base_uri": "https://localhost:8080/"
        },
        "id": "ke5k5NEsuuPw",
        "outputId": "f91b0def-b18e-4d8d-80c0-fb8cb8173181"
      },
      "outputs": [
        {
          "output_type": "stream",
          "name": "stdout",
          "text": [
            "For alpha values: 0.8\n",
            "Predicted values: [6931.14917297051, 6166.229834594102, 3577.24596691882, 1945.0491933837638, 3225.809838676753, 3805.1619677353506, 4166.63239354707]\n",
            "MAPE: 10.463815894161465\n",
            "SSE: 992641.5659346564\n",
            "\n",
            "For alpha values: 0.5\n",
            "Predicted values: [6110.145548820496, 6042.572774410248, 4486.286387205124, 3011.643193602562, 3278.821596801281, 3614.4107984006405, 3935.7053992003202]\n",
            "MAPE: 27.345784680299452\n",
            "SSE: 6604119.262423538\n"
          ]
        }
      ],
      "source": [
        "EWMA(may_id_data_3week,0.8,may_id_data_fweek)\n",
        "print()\n",
        "EWMA(may_id_data_3week,0.5,may_id_data_fweek)"
      ]
    }
  ],
  "metadata": {
    "colab": {
      "collapsed_sections": [],
      "name": "prob_stats_project_2_bcd.ipynb",
      "provenance": []
    },
    "kernelspec": {
      "display_name": "Python 3",
      "name": "python3"
    },
    "language_info": {
      "name": "python"
    }
  },
  "nbformat": 4,
  "nbformat_minor": 0
}