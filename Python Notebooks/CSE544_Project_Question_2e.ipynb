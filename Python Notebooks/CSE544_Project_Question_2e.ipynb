{
  "cells": [
    {
      "cell_type": "code",
      "execution_count": 62,
      "id": "d6e5574d",
      "metadata": {
        "id": "d6e5574d"
      },
      "outputs": [],
      "source": [
        "import pandas as pd\n",
        "import numpy as np\n",
        "import collections\n",
        "import csv\n",
        "import math\n",
        "import warnings\n",
        "import scipy.stats\n",
        "\n",
        "warnings.filterwarnings('ignore')"
      ]
    },
    {
      "cell_type": "code",
      "execution_count": 63,
      "id": "07c8df95",
      "metadata": {
        "colab": {
          "base_uri": "https://localhost:8080/",
          "height": 0
        },
        "id": "07c8df95",
        "outputId": "4974a314-baa8-45fa-ab3e-c31ea1493fc8"
      },
      "outputs": [
        {
          "output_type": "stream",
          "name": "stdout",
          "text": [
            "Drive already mounted at /content/gdrive; to attempt to forcibly remount, call drive.mount(\"/content/gdrive\", force_remount=True).\n"
          ]
        }
      ],
      "source": [
        "# Reading CSV\n",
        "from google.colab import drive\n",
        "drive.mount('/content/gdrive')"
      ]
    },
    {
      "cell_type": "code",
      "source": [
        "vaccine_del=pd.read_csv(\"/content/gdrive/MyDrive/delaware_vaccines.csv\")\n",
        "vaccine_id=pd.read_csv(\"/content/gdrive/MyDrive/idaho_vaccines.csv\")"
      ],
      "metadata": {
        "id": "i2denv1hKSOU"
      },
      "id": "i2denv1hKSOU",
      "execution_count": 64,
      "outputs": []
    },
    {
      "cell_type": "code",
      "execution_count": 65,
      "id": "421aca5d",
      "metadata": {
        "id": "421aca5d"
      },
      "outputs": [],
      "source": [
        "# Function for paired two sample T test\n",
        "def ttest_twot_e(a,b):\n",
        "    print(\"Mean Administered daily for Delaware {}\".format(np.mean(a)))\n",
        "    print(\"Mean Administered daily for Idaho {}\".format(np.mean(b)))\n",
        "    D = a-b\n",
        "    # print(len(D))\n",
        "    \n",
        "    Dbar = np.mean(D)\n",
        "    \n",
        "    # print('dbar',Dbar)\n",
        "    \n",
        "    sd = np.sqrt(np.sum(np.square(D-Dbar))/(len(D)))\n",
        "    \n",
        "    # print('sd',sd)\n",
        "    \n",
        "    denom = sd/np.sqrt(len(D))\n",
        "    \n",
        "    # print('denom',denom)\n",
        "    \n",
        "    paired_t_stat = Dbar/denom\n",
        "    \n",
        "    print(\"t statistic: {}\".format(paired_t_stat))\n",
        "    \n",
        "    t_tab_val = 2.000995\n",
        "    \n",
        "    if abs(paired_t_stat)>t_tab_val:\n",
        "        print('Null hypothesis is rejected')\n",
        "    else:\n",
        "        print('Null hypothesis is accepted')"
      ]
    },
    {
      "cell_type": "markdown",
      "source": [
        "T-test for September plus November"
      ],
      "metadata": {
        "id": "lPpB-8e-T_ar"
      },
      "id": "lPpB-8e-T_ar"
    },
    {
      "cell_type": "code",
      "execution_count": 66,
      "id": "3d29c84a",
      "metadata": {
        "colab": {
          "base_uri": "https://localhost:8080/",
          "height": 0
        },
        "id": "3d29c84a",
        "outputId": "c5b97853-52c8-40ca-b122-ea734a56eed5"
      },
      "outputs": [
        {
          "output_type": "stream",
          "name": "stdout",
          "text": [
            "Mean Administered daily for Delaware 3441.6833333333334\n",
            "Mean Administered daily for Idaho 4386.183333333333\n",
            "t statistic: -0.6768374111408556\n",
            "Null hypothesis is accepted\n"
          ]
        }
      ],
      "source": [
        "# Vaccine dataframes for Delaware, Idaho \n",
        "vaccine_del[\"Date\"] = pd.to_datetime(vaccine_del[\"Date\"])\n",
        "vaccine_id[\"Date\"] = pd.to_datetime(vaccine_id[\"Date\"])\n",
        "vaccine_del_sn = list(vaccine_del[\"Administered_new\"][(vaccine_del[\"Date\"].dt.month == 9) & (vaccine_del[\"Date\"].dt.year == 2021) | (vaccine_del[\"Date\"].dt.month == 11) & (vaccine_del[\"Date\"].dt.year == 2021)])\n",
        "vaccine_id_sn = list(vaccine_id[\"Administered_new\"][(vaccine_id[\"Date\"].dt.month == 9) & (vaccine_id[\"Date\"].dt.year == 2021) | (vaccine_id[\"Date\"].dt.month == 11) & (vaccine_id[\"Date\"].dt.year == 2021)])\n",
        "ttest_twot_e(np.array(vaccine_del_sn),np.array(vaccine_id_sn))"
      ]
    },
    {
      "cell_type": "markdown",
      "source": [
        "T-test for September"
      ],
      "metadata": {
        "id": "vfcP65c0UIW4"
      },
      "id": "vfcP65c0UIW4"
    },
    {
      "cell_type": "code",
      "source": [
        "# Vaccine dataframes for Delaware, Idaho \n",
        "vaccine_del[\"Date\"] = pd.to_datetime(vaccine_del[\"Date\"])\n",
        "vaccine_id[\"Date\"] = pd.to_datetime(vaccine_id[\"Date\"])\n",
        "vaccine_del_s = list(vaccine_del[\"Administered_new\"][(vaccine_del[\"Date\"].dt.month == 9) & (vaccine_del[\"Date\"].dt.year == 2021)])\n",
        "vaccine_id_s = list(vaccine_id[\"Administered_new\"][(vaccine_id[\"Date\"].dt.month == 9) & (vaccine_id[\"Date\"].dt.year == 2021)])\n",
        "ttest_twot_e(np.array(vaccine_del_s),np.array(vaccine_id_s))"
      ],
      "metadata": {
        "colab": {
          "base_uri": "https://localhost:8080/",
          "height": 0
        },
        "id": "7O88suWaLiwX",
        "outputId": "088e318c-6b02-436e-c6c3-63fb2738c686"
      },
      "id": "7O88suWaLiwX",
      "execution_count": 67,
      "outputs": [
        {
          "output_type": "stream",
          "name": "stdout",
          "text": [
            "Mean Administered daily for Delaware 1680.1666666666667\n",
            "Mean Administered daily for Idaho 3540.8\n",
            "t statistic: -4.4015096671754055\n",
            "Null hypothesis is rejected\n"
          ]
        }
      ]
    },
    {
      "cell_type": "markdown",
      "source": [
        "Since the means of daily Administered for Delaware and Idaho are very different we can see why the null hypothesis was rejected. The rejection hypothesis seems accurate the we are trying to compare the values of means of both the states and it seems from the results above that the means are quite contrastingly different."
      ],
      "metadata": {
        "id": "0VH1PPv4UXvy"
      },
      "id": "0VH1PPv4UXvy"
    },
    {
      "cell_type": "markdown",
      "source": [
        "T-test for November"
      ],
      "metadata": {
        "id": "HQQzZI0dUKvB"
      },
      "id": "HQQzZI0dUKvB"
    },
    {
      "cell_type": "code",
      "source": [
        "# Vaccine dataframes for Delaware, Idaho \n",
        "vaccine_del[\"Date\"] = pd.to_datetime(vaccine_del[\"Date\"])\n",
        "vaccine_id[\"Date\"] = pd.to_datetime(vaccine_id[\"Date\"])\n",
        "vaccine_del_n = list(vaccine_del[\"Administered_new\"][(vaccine_del[\"Date\"].dt.month == 11) & (vaccine_del[\"Date\"].dt.year == 2021)])\n",
        "vaccine_id_n = list(vaccine_id[\"Administered_new\"][(vaccine_id[\"Date\"].dt.month == 11) & (vaccine_id[\"Date\"].dt.year == 2021)])\n",
        "ttest_twot_e(np.array(vaccine_del_n),np.array(vaccine_id_n))"
      ],
      "metadata": {
        "colab": {
          "base_uri": "https://localhost:8080/",
          "height": 0
        },
        "id": "_K8o64hQSvuu",
        "outputId": "4bb57e58-11ed-456b-e8b9-2c82e5038b62"
      },
      "id": "_K8o64hQSvuu",
      "execution_count": 68,
      "outputs": [
        {
          "output_type": "stream",
          "name": "stdout",
          "text": [
            "Mean Administered daily for Delaware 5203.2\n",
            "Mean Administered daily for Idaho 5231.566666666667\n",
            "t statistic: -0.01032054938492115\n",
            "Null hypothesis is accepted\n"
          ]
        }
      ]
    },
    {
      "cell_type": "markdown",
      "source": [
        "Since the means of daily Administered for Delaware and Idaho are very close we can see why the null hypothesis was accepted. The acceptance hypothesis is accurate in this case as the means of the vaccines administered in both the states seem to be close or comparable so it obviously makes sense that the hypothesis of mean comparision is that the means are equvalent (approximately)."
      ],
      "metadata": {
        "id": "9k3dgDEqU1d7"
      },
      "id": "9k3dgDEqU1d7"
    },
    {
      "cell_type": "code",
      "source": [
        ""
      ],
      "metadata": {
        "id": "CjFr82f0V_2M"
      },
      "id": "CjFr82f0V_2M",
      "execution_count": null,
      "outputs": []
    },
    {
      "cell_type": "code",
      "source": [
        ""
      ],
      "metadata": {
        "id": "xQmC5-JbTLy3"
      },
      "id": "xQmC5-JbTLy3",
      "execution_count": 68,
      "outputs": []
    }
  ],
  "metadata": {
    "kernelspec": {
      "display_name": "Python 3",
      "language": "python",
      "name": "python3"
    },
    "language_info": {
      "codemirror_mode": {
        "name": "ipython",
        "version": 3
      },
      "file_extension": ".py",
      "mimetype": "text/x-python",
      "name": "python",
      "nbconvert_exporter": "python",
      "pygments_lexer": "ipython3",
      "version": "3.8.8"
    },
    "colab": {
      "name": "CSE544_Project_Question_2e.ipynb",
      "provenance": [],
      "collapsed_sections": []
    }
  },
  "nbformat": 4,
  "nbformat_minor": 5
}