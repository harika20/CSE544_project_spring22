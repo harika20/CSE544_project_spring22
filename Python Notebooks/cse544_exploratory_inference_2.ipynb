{
 "cells": [
  {
   "cell_type": "markdown",
   "id": "e7c6d420",
   "metadata": {},
   "source": [
    "## Inference 2 - Correlation analysis of AQI values and number of deaths"
   ]
  },
  {
   "cell_type": "code",
   "execution_count": 443,
   "id": "f442ee82",
   "metadata": {},
   "outputs": [],
   "source": [
    "import pandas as pd\n",
    "import numpy as np\n",
    "import collections\n",
    "import csv\n",
    "import math\n",
    "import matplotlib.pyplot as plt\n",
    "import warnings\n",
    "warnings.filterwarnings('ignore')"
   ]
  },
  {
   "cell_type": "code",
   "execution_count": 444,
   "id": "f0721377",
   "metadata": {},
   "outputs": [],
   "source": [
    "# Reading CSV files\n",
    "df = pd.read_csv('/Users/harikabandarupally/Desktop/SBU/Spring22/CSE 544/Project/MandatoryDB/United_States_COVID-19_Cases_and_Deaths_by_State_over_Time.csv')\n",
    "aqi1 = pd.read_csv('/Users/harikabandarupally/Desktop/SBU/Spring22/CSE 544/Project/ExploratoryDB/daily_aqi_by_county_2020.csv')\n",
    "aqi2 = pd.read_csv('/Users/harikabandarupally/Desktop/SBU/Spring22/CSE 544/Project/ExploratoryDB/daily_aqi_by_county_2021.csv')"
   ]
  },
  {
   "cell_type": "code",
   "execution_count": 445,
   "id": "061978b0",
   "metadata": {},
   "outputs": [
    {
     "name": "stdout",
     "output_type": "stream",
     "text": [
      "338195 218196\n"
     ]
    }
   ],
   "source": [
    "print(len(aqi1),len(aqi2))"
   ]
  },
  {
   "cell_type": "code",
   "execution_count": 590,
   "id": "3ac4ffd6",
   "metadata": {},
   "outputs": [
    {
     "data": {
      "text/html": [
       "<div>\n",
       "<style scoped>\n",
       "    .dataframe tbody tr th:only-of-type {\n",
       "        vertical-align: middle;\n",
       "    }\n",
       "\n",
       "    .dataframe tbody tr th {\n",
       "        vertical-align: top;\n",
       "    }\n",
       "\n",
       "    .dataframe thead th {\n",
       "        text-align: right;\n",
       "    }\n",
       "</style>\n",
       "<table border=\"1\" class=\"dataframe\">\n",
       "  <thead>\n",
       "    <tr style=\"text-align: right;\">\n",
       "      <th></th>\n",
       "      <th>Date</th>\n",
       "      <th>State Name</th>\n",
       "      <th>tot_cases</th>\n",
       "      <th>conf_cases</th>\n",
       "      <th>prob_cases</th>\n",
       "      <th>new_case</th>\n",
       "      <th>pnew_case</th>\n",
       "      <th>tot_death</th>\n",
       "      <th>conf_death</th>\n",
       "      <th>prob_death</th>\n",
       "      <th>new_death</th>\n",
       "      <th>pnew_death</th>\n",
       "      <th>created_at</th>\n",
       "      <th>consent_cases</th>\n",
       "      <th>consent_deaths</th>\n",
       "    </tr>\n",
       "  </thead>\n",
       "  <tbody>\n",
       "    <tr>\n",
       "      <th>31740</th>\n",
       "      <td>2021-01-01</td>\n",
       "      <td>AK</td>\n",
       "      <td>46241</td>\n",
       "      <td>NaN</td>\n",
       "      <td>NaN</td>\n",
       "      <td>470</td>\n",
       "      <td>0.0</td>\n",
       "      <td>285</td>\n",
       "      <td>NaN</td>\n",
       "      <td>NaN</td>\n",
       "      <td>4</td>\n",
       "      <td>0.0</td>\n",
       "      <td>01/01/2021 12:00:00 AM</td>\n",
       "      <td>NaN</td>\n",
       "      <td>NaN</td>\n",
       "    </tr>\n",
       "    <tr>\n",
       "      <th>29287</th>\n",
       "      <td>2022-01-01</td>\n",
       "      <td>AK</td>\n",
       "      <td>151583</td>\n",
       "      <td>NaN</td>\n",
       "      <td>NaN</td>\n",
       "      <td>0</td>\n",
       "      <td>0.0</td>\n",
       "      <td>947</td>\n",
       "      <td>NaN</td>\n",
       "      <td>NaN</td>\n",
       "      <td>0</td>\n",
       "      <td>0.0</td>\n",
       "      <td>01/03/2022 01:55:55 PM</td>\n",
       "      <td>NaN</td>\n",
       "      <td>NaN</td>\n",
       "    </tr>\n",
       "    <tr>\n",
       "      <th>19986</th>\n",
       "      <td>2021-01-02</td>\n",
       "      <td>AK</td>\n",
       "      <td>46530</td>\n",
       "      <td>NaN</td>\n",
       "      <td>NaN</td>\n",
       "      <td>289</td>\n",
       "      <td>0.0</td>\n",
       "      <td>287</td>\n",
       "      <td>NaN</td>\n",
       "      <td>NaN</td>\n",
       "      <td>2</td>\n",
       "      <td>0.0</td>\n",
       "      <td>01/02/2021 12:00:00 AM</td>\n",
       "      <td>NaN</td>\n",
       "      <td>NaN</td>\n",
       "    </tr>\n",
       "    <tr>\n",
       "      <th>20302</th>\n",
       "      <td>2022-01-02</td>\n",
       "      <td>AK</td>\n",
       "      <td>151583</td>\n",
       "      <td>NaN</td>\n",
       "      <td>NaN</td>\n",
       "      <td>0</td>\n",
       "      <td>0.0</td>\n",
       "      <td>947</td>\n",
       "      <td>NaN</td>\n",
       "      <td>NaN</td>\n",
       "      <td>0</td>\n",
       "      <td>0.0</td>\n",
       "      <td>01/03/2022 03:18:16 PM</td>\n",
       "      <td>NaN</td>\n",
       "      <td>NaN</td>\n",
       "    </tr>\n",
       "    <tr>\n",
       "      <th>31873</th>\n",
       "      <td>2021-01-03</td>\n",
       "      <td>AK</td>\n",
       "      <td>46698</td>\n",
       "      <td>NaN</td>\n",
       "      <td>NaN</td>\n",
       "      <td>168</td>\n",
       "      <td>0.0</td>\n",
       "      <td>289</td>\n",
       "      <td>NaN</td>\n",
       "      <td>NaN</td>\n",
       "      <td>2</td>\n",
       "      <td>0.0</td>\n",
       "      <td>01/03/2021 12:00:00 AM</td>\n",
       "      <td>NaN</td>\n",
       "      <td>NaN</td>\n",
       "    </tr>\n",
       "  </tbody>\n",
       "</table>\n",
       "</div>"
      ],
      "text/plain": [
       "            Date State Name  tot_cases  conf_cases  prob_cases  new_case  \\\n",
       "31740 2021-01-01         AK      46241         NaN         NaN       470   \n",
       "29287 2022-01-01         AK     151583         NaN         NaN         0   \n",
       "19986 2021-01-02         AK      46530         NaN         NaN       289   \n",
       "20302 2022-01-02         AK     151583         NaN         NaN         0   \n",
       "31873 2021-01-03         AK      46698         NaN         NaN       168   \n",
       "\n",
       "       pnew_case  tot_death  conf_death  prob_death  new_death  pnew_death  \\\n",
       "31740        0.0        285         NaN         NaN          4         0.0   \n",
       "29287        0.0        947         NaN         NaN          0         0.0   \n",
       "19986        0.0        287         NaN         NaN          2         0.0   \n",
       "20302        0.0        947         NaN         NaN          0         0.0   \n",
       "31873        0.0        289         NaN         NaN          2         0.0   \n",
       "\n",
       "                   created_at consent_cases consent_deaths  \n",
       "31740  01/01/2021 12:00:00 AM           NaN            NaN  \n",
       "29287  01/03/2022 01:55:55 PM           NaN            NaN  \n",
       "19986  01/02/2021 12:00:00 AM           NaN            NaN  \n",
       "20302  01/03/2022 03:18:16 PM           NaN            NaN  \n",
       "31873  01/03/2021 12:00:00 AM           NaN            NaN  "
      ]
     },
     "execution_count": 590,
     "metadata": {},
     "output_type": "execute_result"
    }
   ],
   "source": [
    "# Dataframe containing data pertaining to cases and deaths during Covid\n",
    "df.head()"
   ]
  },
  {
   "cell_type": "markdown",
   "id": "4c25ae09",
   "metadata": {},
   "source": [
    "## Data Pre-processing"
   ]
  },
  {
   "cell_type": "code",
   "execution_count": 448,
   "id": "85966840",
   "metadata": {},
   "outputs": [
    {
     "data": {
      "text/plain": [
       "0"
      ]
     },
     "execution_count": 448,
     "metadata": {},
     "output_type": "execute_result"
    }
   ],
   "source": [
    "# Finding if nulls are present \n",
    "df['new_death'].isnull().sum()"
   ]
  },
  {
   "cell_type": "code",
   "execution_count": 449,
   "id": "7f069a00",
   "metadata": {},
   "outputs": [],
   "source": [
    "# Creating a merged AQI data frame for years 2020 and 2021\n",
    "aqi = pd.concat([aqi1,aqi2],ignore_index=True)"
   ]
  },
  {
   "cell_type": "code",
   "execution_count": 450,
   "id": "4e577691",
   "metadata": {},
   "outputs": [
    {
     "data": {
      "text/html": [
       "<div>\n",
       "<style scoped>\n",
       "    .dataframe tbody tr th:only-of-type {\n",
       "        vertical-align: middle;\n",
       "    }\n",
       "\n",
       "    .dataframe tbody tr th {\n",
       "        vertical-align: top;\n",
       "    }\n",
       "\n",
       "    .dataframe thead th {\n",
       "        text-align: right;\n",
       "    }\n",
       "</style>\n",
       "<table border=\"1\" class=\"dataframe\">\n",
       "  <thead>\n",
       "    <tr style=\"text-align: right;\">\n",
       "      <th></th>\n",
       "      <th>State Name</th>\n",
       "      <th>county Name</th>\n",
       "      <th>State Code</th>\n",
       "      <th>County Code</th>\n",
       "      <th>Date</th>\n",
       "      <th>AQI</th>\n",
       "      <th>Category</th>\n",
       "      <th>Defining Parameter</th>\n",
       "      <th>Defining Site</th>\n",
       "      <th>Number of Sites Reporting</th>\n",
       "    </tr>\n",
       "  </thead>\n",
       "  <tbody>\n",
       "    <tr>\n",
       "      <th>0</th>\n",
       "      <td>Alabama</td>\n",
       "      <td>Baldwin</td>\n",
       "      <td>1</td>\n",
       "      <td>3</td>\n",
       "      <td>2020-01-01</td>\n",
       "      <td>48</td>\n",
       "      <td>Good</td>\n",
       "      <td>PM2.5</td>\n",
       "      <td>01-003-0010</td>\n",
       "      <td>1</td>\n",
       "    </tr>\n",
       "    <tr>\n",
       "      <th>1</th>\n",
       "      <td>Alabama</td>\n",
       "      <td>Baldwin</td>\n",
       "      <td>1</td>\n",
       "      <td>3</td>\n",
       "      <td>2020-01-04</td>\n",
       "      <td>13</td>\n",
       "      <td>Good</td>\n",
       "      <td>PM2.5</td>\n",
       "      <td>01-003-0010</td>\n",
       "      <td>1</td>\n",
       "    </tr>\n",
       "    <tr>\n",
       "      <th>2</th>\n",
       "      <td>Alabama</td>\n",
       "      <td>Baldwin</td>\n",
       "      <td>1</td>\n",
       "      <td>3</td>\n",
       "      <td>2020-01-07</td>\n",
       "      <td>14</td>\n",
       "      <td>Good</td>\n",
       "      <td>PM2.5</td>\n",
       "      <td>01-003-0010</td>\n",
       "      <td>1</td>\n",
       "    </tr>\n",
       "    <tr>\n",
       "      <th>3</th>\n",
       "      <td>Alabama</td>\n",
       "      <td>Baldwin</td>\n",
       "      <td>1</td>\n",
       "      <td>3</td>\n",
       "      <td>2020-01-10</td>\n",
       "      <td>39</td>\n",
       "      <td>Good</td>\n",
       "      <td>PM2.5</td>\n",
       "      <td>01-003-0010</td>\n",
       "      <td>1</td>\n",
       "    </tr>\n",
       "    <tr>\n",
       "      <th>4</th>\n",
       "      <td>Alabama</td>\n",
       "      <td>Baldwin</td>\n",
       "      <td>1</td>\n",
       "      <td>3</td>\n",
       "      <td>2020-01-13</td>\n",
       "      <td>29</td>\n",
       "      <td>Good</td>\n",
       "      <td>PM2.5</td>\n",
       "      <td>01-003-0010</td>\n",
       "      <td>1</td>\n",
       "    </tr>\n",
       "  </tbody>\n",
       "</table>\n",
       "</div>"
      ],
      "text/plain": [
       "  State Name county Name  State Code  County Code        Date  AQI Category  \\\n",
       "0    Alabama     Baldwin           1            3  2020-01-01   48     Good   \n",
       "1    Alabama     Baldwin           1            3  2020-01-04   13     Good   \n",
       "2    Alabama     Baldwin           1            3  2020-01-07   14     Good   \n",
       "3    Alabama     Baldwin           1            3  2020-01-10   39     Good   \n",
       "4    Alabama     Baldwin           1            3  2020-01-13   29     Good   \n",
       "\n",
       "  Defining Parameter Defining Site  Number of Sites Reporting  \n",
       "0              PM2.5   01-003-0010                          1  \n",
       "1              PM2.5   01-003-0010                          1  \n",
       "2              PM2.5   01-003-0010                          1  \n",
       "3              PM2.5   01-003-0010                          1  \n",
       "4              PM2.5   01-003-0010                          1  "
      ]
     },
     "execution_count": 450,
     "metadata": {},
     "output_type": "execute_result"
    }
   ],
   "source": [
    "aqi.head()"
   ]
  },
  {
   "cell_type": "code",
   "execution_count": 451,
   "id": "bcf9940a",
   "metadata": {},
   "outputs": [
    {
     "data": {
      "text/plain": [
       "0"
      ]
     },
     "execution_count": 451,
     "metadata": {},
     "output_type": "execute_result"
    }
   ],
   "source": [
    "# Finding if nulls are present \n",
    "aqi['AQI'].isnull().sum()"
   ]
  },
  {
   "cell_type": "code",
   "execution_count": 452,
   "id": "a404e939",
   "metadata": {},
   "outputs": [],
   "source": [
    "# New dataframe with columns State Name, Date and AQI after groupby\n",
    "aqi_fin = aqi[['State Name', 'Date', 'AQI']].groupby(['State Name', 'Date']).agg({'AQI': 'mean'})"
   ]
  },
  {
   "cell_type": "code",
   "execution_count": 453,
   "id": "d7b0d46c",
   "metadata": {},
   "outputs": [],
   "source": [
    "# Resetting Indices\n",
    "aqi_fin = aqi_fin.reset_index()"
   ]
  },
  {
   "cell_type": "code",
   "execution_count": 454,
   "id": "a1185eeb",
   "metadata": {},
   "outputs": [
    {
     "data": {
      "text/html": [
       "<div>\n",
       "<style scoped>\n",
       "    .dataframe tbody tr th:only-of-type {\n",
       "        vertical-align: middle;\n",
       "    }\n",
       "\n",
       "    .dataframe tbody tr th {\n",
       "        vertical-align: top;\n",
       "    }\n",
       "\n",
       "    .dataframe thead th {\n",
       "        text-align: right;\n",
       "    }\n",
       "</style>\n",
       "<table border=\"1\" class=\"dataframe\">\n",
       "  <thead>\n",
       "    <tr style=\"text-align: right;\">\n",
       "      <th></th>\n",
       "      <th>State Name</th>\n",
       "      <th>Date</th>\n",
       "      <th>AQI</th>\n",
       "    </tr>\n",
       "  </thead>\n",
       "  <tbody>\n",
       "    <tr>\n",
       "      <th>0</th>\n",
       "      <td>Alabama</td>\n",
       "      <td>2020-01-01</td>\n",
       "      <td>34.076923</td>\n",
       "    </tr>\n",
       "    <tr>\n",
       "      <th>1</th>\n",
       "      <td>Alabama</td>\n",
       "      <td>2020-01-02</td>\n",
       "      <td>25.777778</td>\n",
       "    </tr>\n",
       "    <tr>\n",
       "      <th>2</th>\n",
       "      <td>Alabama</td>\n",
       "      <td>2020-01-03</td>\n",
       "      <td>18.666667</td>\n",
       "    </tr>\n",
       "    <tr>\n",
       "      <th>3</th>\n",
       "      <td>Alabama</td>\n",
       "      <td>2020-01-04</td>\n",
       "      <td>20.642857</td>\n",
       "    </tr>\n",
       "    <tr>\n",
       "      <th>4</th>\n",
       "      <td>Alabama</td>\n",
       "      <td>2020-01-05</td>\n",
       "      <td>25.555556</td>\n",
       "    </tr>\n",
       "  </tbody>\n",
       "</table>\n",
       "</div>"
      ],
      "text/plain": [
       "  State Name        Date        AQI\n",
       "0    Alabama  2020-01-01  34.076923\n",
       "1    Alabama  2020-01-02  25.777778\n",
       "2    Alabama  2020-01-03  18.666667\n",
       "3    Alabama  2020-01-04  20.642857\n",
       "4    Alabama  2020-01-05  25.555556"
      ]
     },
     "execution_count": 454,
     "metadata": {},
     "output_type": "execute_result"
    }
   ],
   "source": [
    "aqi_fin.head()"
   ]
  },
  {
   "cell_type": "code",
   "execution_count": 455,
   "id": "ad90b7c2",
   "metadata": {},
   "outputs": [],
   "source": [
    "# AQI data has states in the form of complete names whereas Covid data has state id, so mapping state to id\n",
    "state_to_id = {\n",
    "'Alabama' : 'AL',\n",
    "'Alaska' : 'AK',\n",
    "'Arizona' : 'AZ',\n",
    "'Arkansas' : 'AR',\n",
    "'California' : 'CA',\n",
    "'Colorado' : 'CO',\n",
    "'Connecticut' : 'CT',\n",
    "'Delaware' : 'DE',\n",
    "'District of Columbia' : 'DC',\n",
    "'Florida' : 'FL',\n",
    "'Georgia' : 'GA',\n",
    "'Hawaii' : 'HI',\n",
    "'Idaho' : 'ID',\n",
    "'Illinois' : 'IL',\n",
    "'Indiana' : 'IN',\n",
    "'Iowa' : 'IA',\n",
    "'Kansas' : 'KS',\n",
    "'Kentucky' : 'KY',\n",
    "'Louisiana' : 'LA',\n",
    "'Maine' : 'ME',\n",
    "'Maryland' : 'MD',\n",
    "'Massachusetts' : 'MA',\n",
    "'Michigan' : 'MI',\n",
    "'Minnesota' : 'MN',\n",
    "'Mississippi' : 'MS',\n",
    "'Missouri' : 'MO',\n",
    "'Montana' : 'MT',\n",
    "'Nebraska' : 'NE',\n",
    "'Nevada' : 'NV',\n",
    "'New Hampshire' : 'NH',\n",
    "'New Jersey' : 'NJ',\n",
    "'New Mexico' : 'NM',\n",
    "'New York' : 'NY',\n",
    "'North Carolina' : 'NC',\n",
    "'North Dakota' : 'ND',\n",
    "'Ohio' : 'OH',\n",
    "'Oklahoma' : 'OK',\n",
    "'Oregon' : 'OR',\n",
    "'Pennsylvania' : 'PA',\n",
    "'Rhode Island' : 'RI',\n",
    "'South Carolina' : 'SC',\n",
    "'South Dakota' : 'SD',\n",
    "'Tennessee' : 'TN',\n",
    "'Texas' : 'TX',\n",
    "'Utah' : 'UT',\n",
    "'Vermont' : 'VT',\n",
    "'Virginia' : 'VA',\n",
    "'Washington' : 'WA',\n",
    "'West Virginia' : 'WV',\n",
    "'Wisconsin' : 'WI',\n",
    "'Wyoming' : 'WY'}"
   ]
  },
  {
   "cell_type": "code",
   "execution_count": 456,
   "id": "10768897",
   "metadata": {},
   "outputs": [],
   "source": [
    "for d in state_to_id:\n",
    "    aqi_fin = aqi_fin.replace(d,state_to_id[d])"
   ]
  },
  {
   "cell_type": "code",
   "execution_count": 457,
   "id": "ae3eab6c",
   "metadata": {},
   "outputs": [],
   "source": [
    "# Sorting by state name and date\n",
    "aqi_fin = aqi_fin.sort_values(by=['State Name','Date'])"
   ]
  },
  {
   "cell_type": "code",
   "execution_count": 458,
   "id": "dbafbfe2",
   "metadata": {},
   "outputs": [
    {
     "data": {
      "text/html": [
       "<div>\n",
       "<style scoped>\n",
       "    .dataframe tbody tr th:only-of-type {\n",
       "        vertical-align: middle;\n",
       "    }\n",
       "\n",
       "    .dataframe tbody tr th {\n",
       "        vertical-align: top;\n",
       "    }\n",
       "\n",
       "    .dataframe thead th {\n",
       "        text-align: right;\n",
       "    }\n",
       "</style>\n",
       "<table border=\"1\" class=\"dataframe\">\n",
       "  <thead>\n",
       "    <tr style=\"text-align: right;\">\n",
       "      <th></th>\n",
       "      <th>State Name</th>\n",
       "      <th>Date</th>\n",
       "      <th>AQI</th>\n",
       "    </tr>\n",
       "  </thead>\n",
       "  <tbody>\n",
       "    <tr>\n",
       "      <th>609</th>\n",
       "      <td>AK</td>\n",
       "      <td>2020-01-01</td>\n",
       "      <td>27.250000</td>\n",
       "    </tr>\n",
       "    <tr>\n",
       "      <th>610</th>\n",
       "      <td>AK</td>\n",
       "      <td>2020-01-02</td>\n",
       "      <td>30.833333</td>\n",
       "    </tr>\n",
       "    <tr>\n",
       "      <th>611</th>\n",
       "      <td>AK</td>\n",
       "      <td>2020-01-03</td>\n",
       "      <td>59.333333</td>\n",
       "    </tr>\n",
       "    <tr>\n",
       "      <th>612</th>\n",
       "      <td>AK</td>\n",
       "      <td>2020-01-04</td>\n",
       "      <td>50.625000</td>\n",
       "    </tr>\n",
       "    <tr>\n",
       "      <th>613</th>\n",
       "      <td>AK</td>\n",
       "      <td>2020-01-05</td>\n",
       "      <td>64.166667</td>\n",
       "    </tr>\n",
       "  </tbody>\n",
       "</table>\n",
       "</div>"
      ],
      "text/plain": [
       "    State Name        Date        AQI\n",
       "609         AK  2020-01-01  27.250000\n",
       "610         AK  2020-01-02  30.833333\n",
       "611         AK  2020-01-03  59.333333\n",
       "612         AK  2020-01-04  50.625000\n",
       "613         AK  2020-01-05  64.166667"
      ]
     },
     "execution_count": 458,
     "metadata": {},
     "output_type": "execute_result"
    }
   ],
   "source": [
    "aqi_fin.head()"
   ]
  },
  {
   "cell_type": "code",
   "execution_count": 459,
   "id": "4f1b8b46",
   "metadata": {},
   "outputs": [
    {
     "data": {
      "text/plain": [
       "State Name     object\n",
       "Date           object\n",
       "AQI           float64\n",
       "dtype: object"
      ]
     },
     "execution_count": 459,
     "metadata": {},
     "output_type": "execute_result"
    }
   ],
   "source": [
    "aqi_fin.dtypes"
   ]
  },
  {
   "cell_type": "code",
   "execution_count": 460,
   "id": "bcae6c95",
   "metadata": {},
   "outputs": [],
   "source": [
    "# Convert Date column in AQI data to 'Datetime' type\n",
    "aqi_fin[\"Date\"] = pd.to_datetime(aqi_fin[\"Date\"])"
   ]
  },
  {
   "cell_type": "code",
   "execution_count": 461,
   "id": "5311f97f",
   "metadata": {},
   "outputs": [
    {
     "data": {
      "text/plain": [
       "State Name            object\n",
       "Date          datetime64[ns]\n",
       "AQI                  float64\n",
       "dtype: object"
      ]
     },
     "execution_count": 461,
     "metadata": {},
     "output_type": "execute_result"
    }
   ],
   "source": [
    "aqi_fin.dtypes"
   ]
  },
  {
   "cell_type": "code",
   "execution_count": 462,
   "id": "2b1b705d",
   "metadata": {},
   "outputs": [],
   "source": [
    "# Sorting the dataframe by date and state\n",
    "df = df.sort_values(by=['state','submission_date'])"
   ]
  },
  {
   "cell_type": "code",
   "execution_count": 463,
   "id": "8bd423fc",
   "metadata": {},
   "outputs": [
    {
     "data": {
      "text/html": [
       "<div>\n",
       "<style scoped>\n",
       "    .dataframe tbody tr th:only-of-type {\n",
       "        vertical-align: middle;\n",
       "    }\n",
       "\n",
       "    .dataframe tbody tr th {\n",
       "        vertical-align: top;\n",
       "    }\n",
       "\n",
       "    .dataframe thead th {\n",
       "        text-align: right;\n",
       "    }\n",
       "</style>\n",
       "<table border=\"1\" class=\"dataframe\">\n",
       "  <thead>\n",
       "    <tr style=\"text-align: right;\">\n",
       "      <th></th>\n",
       "      <th>submission_date</th>\n",
       "      <th>state</th>\n",
       "      <th>tot_cases</th>\n",
       "      <th>conf_cases</th>\n",
       "      <th>prob_cases</th>\n",
       "      <th>new_case</th>\n",
       "      <th>pnew_case</th>\n",
       "      <th>tot_death</th>\n",
       "      <th>conf_death</th>\n",
       "      <th>prob_death</th>\n",
       "      <th>new_death</th>\n",
       "      <th>pnew_death</th>\n",
       "      <th>created_at</th>\n",
       "      <th>consent_cases</th>\n",
       "      <th>consent_deaths</th>\n",
       "    </tr>\n",
       "  </thead>\n",
       "  <tbody>\n",
       "    <tr>\n",
       "      <th>31740</th>\n",
       "      <td>01/01/2021</td>\n",
       "      <td>AK</td>\n",
       "      <td>46241</td>\n",
       "      <td>NaN</td>\n",
       "      <td>NaN</td>\n",
       "      <td>470</td>\n",
       "      <td>0.0</td>\n",
       "      <td>285</td>\n",
       "      <td>NaN</td>\n",
       "      <td>NaN</td>\n",
       "      <td>4</td>\n",
       "      <td>0.0</td>\n",
       "      <td>01/01/2021 12:00:00 AM</td>\n",
       "      <td>NaN</td>\n",
       "      <td>NaN</td>\n",
       "    </tr>\n",
       "    <tr>\n",
       "      <th>29287</th>\n",
       "      <td>01/01/2022</td>\n",
       "      <td>AK</td>\n",
       "      <td>151583</td>\n",
       "      <td>NaN</td>\n",
       "      <td>NaN</td>\n",
       "      <td>0</td>\n",
       "      <td>0.0</td>\n",
       "      <td>947</td>\n",
       "      <td>NaN</td>\n",
       "      <td>NaN</td>\n",
       "      <td>0</td>\n",
       "      <td>0.0</td>\n",
       "      <td>01/03/2022 01:55:55 PM</td>\n",
       "      <td>NaN</td>\n",
       "      <td>NaN</td>\n",
       "    </tr>\n",
       "    <tr>\n",
       "      <th>19986</th>\n",
       "      <td>01/02/2021</td>\n",
       "      <td>AK</td>\n",
       "      <td>46530</td>\n",
       "      <td>NaN</td>\n",
       "      <td>NaN</td>\n",
       "      <td>289</td>\n",
       "      <td>0.0</td>\n",
       "      <td>287</td>\n",
       "      <td>NaN</td>\n",
       "      <td>NaN</td>\n",
       "      <td>2</td>\n",
       "      <td>0.0</td>\n",
       "      <td>01/02/2021 12:00:00 AM</td>\n",
       "      <td>NaN</td>\n",
       "      <td>NaN</td>\n",
       "    </tr>\n",
       "    <tr>\n",
       "      <th>20302</th>\n",
       "      <td>01/02/2022</td>\n",
       "      <td>AK</td>\n",
       "      <td>151583</td>\n",
       "      <td>NaN</td>\n",
       "      <td>NaN</td>\n",
       "      <td>0</td>\n",
       "      <td>0.0</td>\n",
       "      <td>947</td>\n",
       "      <td>NaN</td>\n",
       "      <td>NaN</td>\n",
       "      <td>0</td>\n",
       "      <td>0.0</td>\n",
       "      <td>01/03/2022 03:18:16 PM</td>\n",
       "      <td>NaN</td>\n",
       "      <td>NaN</td>\n",
       "    </tr>\n",
       "    <tr>\n",
       "      <th>31873</th>\n",
       "      <td>01/03/2021</td>\n",
       "      <td>AK</td>\n",
       "      <td>46698</td>\n",
       "      <td>NaN</td>\n",
       "      <td>NaN</td>\n",
       "      <td>168</td>\n",
       "      <td>0.0</td>\n",
       "      <td>289</td>\n",
       "      <td>NaN</td>\n",
       "      <td>NaN</td>\n",
       "      <td>2</td>\n",
       "      <td>0.0</td>\n",
       "      <td>01/03/2021 12:00:00 AM</td>\n",
       "      <td>NaN</td>\n",
       "      <td>NaN</td>\n",
       "    </tr>\n",
       "  </tbody>\n",
       "</table>\n",
       "</div>"
      ],
      "text/plain": [
       "      submission_date state  tot_cases  conf_cases  prob_cases  new_case  \\\n",
       "31740      01/01/2021    AK      46241         NaN         NaN       470   \n",
       "29287      01/01/2022    AK     151583         NaN         NaN         0   \n",
       "19986      01/02/2021    AK      46530         NaN         NaN       289   \n",
       "20302      01/02/2022    AK     151583         NaN         NaN         0   \n",
       "31873      01/03/2021    AK      46698         NaN         NaN       168   \n",
       "\n",
       "       pnew_case  tot_death  conf_death  prob_death  new_death  pnew_death  \\\n",
       "31740        0.0        285         NaN         NaN          4         0.0   \n",
       "29287        0.0        947         NaN         NaN          0         0.0   \n",
       "19986        0.0        287         NaN         NaN          2         0.0   \n",
       "20302        0.0        947         NaN         NaN          0         0.0   \n",
       "31873        0.0        289         NaN         NaN          2         0.0   \n",
       "\n",
       "                   created_at consent_cases consent_deaths  \n",
       "31740  01/01/2021 12:00:00 AM           NaN            NaN  \n",
       "29287  01/03/2022 01:55:55 PM           NaN            NaN  \n",
       "19986  01/02/2021 12:00:00 AM           NaN            NaN  \n",
       "20302  01/03/2022 03:18:16 PM           NaN            NaN  \n",
       "31873  01/03/2021 12:00:00 AM           NaN            NaN  "
      ]
     },
     "execution_count": 463,
     "metadata": {},
     "output_type": "execute_result"
    }
   ],
   "source": [
    "df.head()"
   ]
  },
  {
   "cell_type": "code",
   "execution_count": 464,
   "id": "75a11e10",
   "metadata": {},
   "outputs": [
    {
     "data": {
      "text/plain": [
       "submission_date     object\n",
       "state               object\n",
       "tot_cases            int64\n",
       "conf_cases         float64\n",
       "prob_cases         float64\n",
       "new_case             int64\n",
       "pnew_case          float64\n",
       "tot_death            int64\n",
       "conf_death         float64\n",
       "prob_death         float64\n",
       "new_death            int64\n",
       "pnew_death         float64\n",
       "created_at          object\n",
       "consent_cases       object\n",
       "consent_deaths      object\n",
       "dtype: object"
      ]
     },
     "execution_count": 464,
     "metadata": {},
     "output_type": "execute_result"
    }
   ],
   "source": [
    "df.dtypes"
   ]
  },
  {
   "cell_type": "code",
   "execution_count": 465,
   "id": "1d8ac7d5",
   "metadata": {},
   "outputs": [],
   "source": [
    "# Renaming columns in Covid dataframe to match with AQI dataframe\n",
    "df = df.rename(columns={'submission_date': 'Date', 'state': 'State Name'})"
   ]
  },
  {
   "cell_type": "markdown",
   "id": "291c76a4",
   "metadata": {},
   "source": [
    "## Illustration of number of deaths in a few states in the US\n",
    "\n",
    "Based on a research from Harvard, the number of deaths due to covid in regions where the AQI is higher (i.e. the places where pollution is higher, the hypothesis is that the number of deaths is also higher). This research was carried out for the countries round the globe. We wanted to understant the influence of AQI on deaths in the United States.\n",
    "\n",
    "Hence,we are performing this **Pearson Correlation** experimental study to understand if AQI and number of deaths due to covid are positively correlated.\n",
    "\n",
    "It can be seen from the following, that when we carried out the experiment over whole 2020 data, we get very low (0.074). Our hypothesis was that AQI and deaths are correlated, but the reason for this could be that the number of deaths suddenly rose between March to June 2020. We can also observe this from the graphs plotted below for the states New York, Massachutes, Michigan and Connecticut (considering these for simplicity, as these states have manufacturing units for the vaccines - J&J, Moderna and Pfizer). \n",
    "\n",
    "Based on the illustration plotted below we can see that deaths rose from mid March to June. Hence, we are considering these months for realising the correlation between AQI and Number of deaths"
   ]
  },
  {
   "cell_type": "code",
   "execution_count": 598,
   "id": "2216ad15",
   "metadata": {},
   "outputs": [],
   "source": [
    "# States considered - New York, Connnecticut, Maschacusets\n",
    "df_total_NY = df[(df[\"Date\"].dt.year == 2020) & (df[\"State Name\"] == 'NY')]\n",
    "df_total_MA = df[(df[\"Date\"].dt.year == 2020) & (df[\"State Name\"] == 'MA')]\n",
    "df_total_MI = df[(df[\"Date\"].dt.year == 2020) & (df[\"State Name\"] == 'MI')]\n",
    "df_total_CT = df[(df[\"Date\"].dt.year == 2020) & (df[\"State Name\"] == 'CT')]"
   ]
  },
  {
   "cell_type": "code",
   "execution_count": 604,
   "id": "4b70b644",
   "metadata": {},
   "outputs": [
    {
     "data": {
      "image/png": "[encoded data removed]",
      "text/plain": [
       "<Figure size 1080x1080 with 4 Axes>"
      ]
     },
     "metadata": {
      "needs_background": "light"
     },
     "output_type": "display_data"
    }
   ],
   "source": [
    "# Graph plot for the states and new deaths over the year 2020\n",
    "f, axs = plt.subplots(4, 1, figsize=(15, 15))\n",
    "# axs[0].subplot(2, 1, 1)\n",
    "axs[0].grid()\n",
    "axs[0].plot(df_total_NY[\"Date\"], df_total_NY[\"new_death\"].astype(int))\n",
    "axs[0].title.set_text(\"Distribution of New Deaths Over the year 2020 in NY state\")\n",
    "# plt.subplot(2, 1, 2)\n",
    "axs[1].grid()\n",
    "axs[1].plot(df_total_MA[\"Date\"], df_total_MA[\"new_death\"].astype(int), color=\"orange\")\n",
    "axs[1].title.set_text(\"Distribution of New Deaths Over the year 2020 in MA state\")\n",
    "# plt.show()\n",
    "axs[2].grid()\n",
    "axs[2].plot(df_total_CT[\"Date\"], df_total_CT[\"new_death\"].astype(int), color=\"pink\")\n",
    "axs[2].title.set_text(\"Distribution of New Deaths Over the year 2020 in CT state\")\n",
    "# plt.show()\n",
    "axs[3].grid()\n",
    "axs[3].plot(df_total_MI[\"Date\"], df_total_MI[\"new_death\"].astype(int), color=\"red\")\n",
    "axs[3].title.set_text(\"Distribution of New Deaths Over the year 2020 in MI state\")\n",
    "# plt.show()"
   ]
  },
  {
   "cell_type": "code",
   "execution_count": 605,
   "id": "314d6f87",
   "metadata": {},
   "outputs": [],
   "source": [
    "# Creating a subset dataframe based on above hypothesis\n",
    "df[\"Date\"] = pd.to_datetime(df[\"Date\"])\n",
    "df_fin = df\n",
    "df_fin = df[(df[\"Date\"].dt.month >=3) & (df[\"Date\"].dt.month <=6) & (df[\"Date\"].dt.year == 2020)]\n",
    "df_total = df[(df[\"Date\"].dt.month >=1) & (df[\"Date\"].dt.month <=12) & (df[\"Date\"].dt.year == 2020)]"
   ]
  },
  {
   "cell_type": "code",
   "execution_count": 567,
   "id": "3304a431",
   "metadata": {},
   "outputs": [],
   "source": [
    "# Merging the covid dataframe and AQI dataframe on Date and State Name\n",
    "fin = pd.merge(aqi_fin, df_fin, on=(\"Date\",\"State Name\"), how='inner')"
   ]
  },
  {
   "cell_type": "code",
   "execution_count": 606,
   "id": "cb3f00ee",
   "metadata": {},
   "outputs": [],
   "source": [
    "# Merging the covid dataframe and AQI dataframe on Date and State Name\n",
    "fin_total = pd.merge(aqi_fin, df_total, on=(\"Date\",\"State Name\"), how='inner')"
   ]
  },
  {
   "cell_type": "code",
   "execution_count": 568,
   "id": "d60a1125",
   "metadata": {},
   "outputs": [
    {
     "data": {
      "text/html": [
       "<div>\n",
       "<style scoped>\n",
       "    .dataframe tbody tr th:only-of-type {\n",
       "        vertical-align: middle;\n",
       "    }\n",
       "\n",
       "    .dataframe tbody tr th {\n",
       "        vertical-align: top;\n",
       "    }\n",
       "\n",
       "    .dataframe thead th {\n",
       "        text-align: right;\n",
       "    }\n",
       "</style>\n",
       "<table border=\"1\" class=\"dataframe\">\n",
       "  <thead>\n",
       "    <tr style=\"text-align: right;\">\n",
       "      <th></th>\n",
       "      <th>State Name</th>\n",
       "      <th>Date</th>\n",
       "      <th>AQI</th>\n",
       "      <th>tot_cases</th>\n",
       "      <th>conf_cases</th>\n",
       "      <th>prob_cases</th>\n",
       "      <th>new_case</th>\n",
       "      <th>pnew_case</th>\n",
       "      <th>tot_death</th>\n",
       "      <th>conf_death</th>\n",
       "      <th>prob_death</th>\n",
       "      <th>new_death</th>\n",
       "      <th>pnew_death</th>\n",
       "      <th>created_at</th>\n",
       "      <th>consent_cases</th>\n",
       "      <th>consent_deaths</th>\n",
       "    </tr>\n",
       "  </thead>\n",
       "  <tbody>\n",
       "    <tr>\n",
       "      <th>0</th>\n",
       "      <td>AK</td>\n",
       "      <td>2020-02-01</td>\n",
       "      <td>38.000000</td>\n",
       "      <td>0</td>\n",
       "      <td>NaN</td>\n",
       "      <td>NaN</td>\n",
       "      <td>0</td>\n",
       "      <td>NaN</td>\n",
       "      <td>0</td>\n",
       "      <td>NaN</td>\n",
       "      <td>NaN</td>\n",
       "      <td>0</td>\n",
       "      <td>NaN</td>\n",
       "      <td>03/26/2020 04:22:39 PM</td>\n",
       "      <td>NaN</td>\n",
       "      <td>NaN</td>\n",
       "    </tr>\n",
       "    <tr>\n",
       "      <th>1</th>\n",
       "      <td>AK</td>\n",
       "      <td>2020-02-02</td>\n",
       "      <td>31.000000</td>\n",
       "      <td>0</td>\n",
       "      <td>NaN</td>\n",
       "      <td>NaN</td>\n",
       "      <td>0</td>\n",
       "      <td>NaN</td>\n",
       "      <td>0</td>\n",
       "      <td>NaN</td>\n",
       "      <td>NaN</td>\n",
       "      <td>0</td>\n",
       "      <td>NaN</td>\n",
       "      <td>03/26/2020 04:22:39 PM</td>\n",
       "      <td>NaN</td>\n",
       "      <td>NaN</td>\n",
       "    </tr>\n",
       "    <tr>\n",
       "      <th>2</th>\n",
       "      <td>AK</td>\n",
       "      <td>2020-02-03</td>\n",
       "      <td>21.777778</td>\n",
       "      <td>0</td>\n",
       "      <td>NaN</td>\n",
       "      <td>NaN</td>\n",
       "      <td>0</td>\n",
       "      <td>NaN</td>\n",
       "      <td>0</td>\n",
       "      <td>NaN</td>\n",
       "      <td>NaN</td>\n",
       "      <td>0</td>\n",
       "      <td>NaN</td>\n",
       "      <td>03/26/2020 04:22:39 PM</td>\n",
       "      <td>NaN</td>\n",
       "      <td>NaN</td>\n",
       "    </tr>\n",
       "    <tr>\n",
       "      <th>3</th>\n",
       "      <td>AK</td>\n",
       "      <td>2020-02-04</td>\n",
       "      <td>29.166667</td>\n",
       "      <td>0</td>\n",
       "      <td>NaN</td>\n",
       "      <td>NaN</td>\n",
       "      <td>0</td>\n",
       "      <td>NaN</td>\n",
       "      <td>0</td>\n",
       "      <td>NaN</td>\n",
       "      <td>NaN</td>\n",
       "      <td>0</td>\n",
       "      <td>NaN</td>\n",
       "      <td>03/26/2020 04:22:39 PM</td>\n",
       "      <td>NaN</td>\n",
       "      <td>NaN</td>\n",
       "    </tr>\n",
       "    <tr>\n",
       "      <th>4</th>\n",
       "      <td>AK</td>\n",
       "      <td>2020-02-05</td>\n",
       "      <td>32.333333</td>\n",
       "      <td>0</td>\n",
       "      <td>NaN</td>\n",
       "      <td>NaN</td>\n",
       "      <td>0</td>\n",
       "      <td>NaN</td>\n",
       "      <td>0</td>\n",
       "      <td>NaN</td>\n",
       "      <td>NaN</td>\n",
       "      <td>0</td>\n",
       "      <td>NaN</td>\n",
       "      <td>03/26/2020 04:22:39 PM</td>\n",
       "      <td>NaN</td>\n",
       "      <td>NaN</td>\n",
       "    </tr>\n",
       "  </tbody>\n",
       "</table>\n",
       "</div>"
      ],
      "text/plain": [
       "  State Name       Date        AQI  tot_cases  conf_cases  prob_cases  \\\n",
       "0         AK 2020-02-01  38.000000          0         NaN         NaN   \n",
       "1         AK 2020-02-02  31.000000          0         NaN         NaN   \n",
       "2         AK 2020-02-03  21.777778          0         NaN         NaN   \n",
       "3         AK 2020-02-04  29.166667          0         NaN         NaN   \n",
       "4         AK 2020-02-05  32.333333          0         NaN         NaN   \n",
       "\n",
       "   new_case  pnew_case  tot_death  conf_death  prob_death  new_death  \\\n",
       "0         0        NaN          0         NaN         NaN          0   \n",
       "1         0        NaN          0         NaN         NaN          0   \n",
       "2         0        NaN          0         NaN         NaN          0   \n",
       "3         0        NaN          0         NaN         NaN          0   \n",
       "4         0        NaN          0         NaN         NaN          0   \n",
       "\n",
       "   pnew_death              created_at consent_cases consent_deaths  \n",
       "0         NaN  03/26/2020 04:22:39 PM           NaN            NaN  \n",
       "1         NaN  03/26/2020 04:22:39 PM           NaN            NaN  \n",
       "2         NaN  03/26/2020 04:22:39 PM           NaN            NaN  \n",
       "3         NaN  03/26/2020 04:22:39 PM           NaN            NaN  \n",
       "4         NaN  03/26/2020 04:22:39 PM           NaN            NaN  "
      ]
     },
     "execution_count": 568,
     "metadata": {},
     "output_type": "execute_result"
    }
   ],
   "source": [
    "fin.head()"
   ]
  },
  {
   "cell_type": "code",
   "execution_count": 569,
   "id": "94face33",
   "metadata": {},
   "outputs": [
    {
     "data": {
      "text/plain": [
       "7550"
      ]
     },
     "execution_count": 569,
     "metadata": {},
     "output_type": "execute_result"
    }
   ],
   "source": [
    "len(fin)"
   ]
  },
  {
   "cell_type": "code",
   "execution_count": null,
   "id": "496bf150",
   "metadata": {},
   "outputs": [],
   "source": [
    "# Outlier detection on merged dataframe\n",
    "def outlier_detection(X, column_name):\n",
    "    values = sorted(X[column_name])\n",
    "    Q1 = values[int(np.ceil(len(values) / 4))]\n",
    "    Q3 = values[int(np.ceil(3 * len(values) / 4))]\n",
    "    iqr = float(Q3 - Q1)\n",
    "    outliers = X.loc[(X[column_name] > (Q3 + (1.5 * iqr))) | (X[column_name] < (Q1 - (1.5 * iqr)))]\n",
    "    return outliers.index"
   ]
  },
  {
   "cell_type": "code",
   "execution_count": 571,
   "id": "cdc8d65c",
   "metadata": {},
   "outputs": [],
   "source": [
    "# Finding the outliers\n",
    "total_outliers = []\n",
    "column_names = ['new_death']\n",
    "for c in column_names:\n",
    "    outliers = outlier_detection(fin, c)\n",
    "    total_outliers.extend(outliers)\n",
    "total_outliers = set(total_outliers)"
   ]
  },
  {
   "cell_type": "code",
   "execution_count": 572,
   "id": "80a088dc",
   "metadata": {},
   "outputs": [],
   "source": [
    "# Keeping desired indices\n",
    "desired_index = [i for i in fin.index if i not in total_outliers]\n",
    "len(desired_index)\n",
    "fin_without_outliers = fin.loc[desired_index]"
   ]
  },
  {
   "cell_type": "code",
   "execution_count": 573,
   "id": "7211c506",
   "metadata": {},
   "outputs": [
    {
     "data": {
      "text/plain": [
       "6575"
      ]
     },
     "execution_count": 573,
     "metadata": {},
     "output_type": "execute_result"
    }
   ],
   "source": [
    "len(fin_without_outliers)"
   ]
  },
  {
   "cell_type": "code",
   "execution_count": 574,
   "id": "e5b76919",
   "metadata": {},
   "outputs": [],
   "source": [
    "# Pearson Correlation Test\n",
    "\n",
    "def correlationCoeff(fin):\n",
    "    num = np.sum((fin['new_death']-fin['new_death'].mean())*(fin['AQI']-fin['AQI'].mean()))\n",
    "    den = np.sqrt(np.sum(pow(fin['new_death']-fin['new_death'].mean(),2))*np.sum(pow(fin['AQI']-fin['AQI'].mean(),2)))\n",
    "    coeff = num/den\n",
    "    \n",
    "    return coeff"
   ]
  },
  {
   "cell_type": "code",
   "execution_count": 607,
   "id": "e256c25e",
   "metadata": {},
   "outputs": [
    {
     "name": "stdout",
     "output_type": "stream",
     "text": [
      "For the year 2020, correlation coeff between AQI and deaths due to covid is\n"
     ]
    },
    {
     "data": {
      "text/plain": [
       "0.07499495427412275"
      ]
     },
     "execution_count": 607,
     "metadata": {},
     "output_type": "execute_result"
    }
   ],
   "source": [
    "print(\"For the year 2020, correlation coeff between AQI and deaths due to covid is\")\n",
    "correlationCoeff(fin_total)"
   ]
  },
  {
   "cell_type": "code",
   "execution_count": 608,
   "id": "33253dcc",
   "metadata": {},
   "outputs": [
    {
     "name": "stdout",
     "output_type": "stream",
     "text": [
      "For the months of March to June in 2020, correlation coeff between AQI and deaths due to covid is\n"
     ]
    },
    {
     "data": {
      "text/plain": [
       "0.24128956898554116"
      ]
     },
     "execution_count": 608,
     "metadata": {},
     "output_type": "execute_result"
    }
   ],
   "source": [
    "print(\"For the months of March to June in 2020, correlation coeff between AQI and deaths due to covid is\")\n",
    "correlationCoeff(fin_without_outliers)"
   ]
  },
  {
   "cell_type": "markdown",
   "id": "c2d281e3",
   "metadata": {},
   "source": [
    "## Analysis\n",
    "\n",
    "As mentioned above, our hypothesis is that AQI and number of deaths are positively correlated. And from the result we can observe that there exists a weak albeit positive correlation between between AQI and the number of deaths.\n",
    "This could be because air pollution and the quality of the air could add on to the covid disease which maily impact the lungs of human system. \n",
    "Again as mentioned above, for the entire 2020 data we see that there is an extremely weak correlation, and for the months where covid deaths were actually high, the correlation between AQI and number of deaths seemed decently correlated in a positive manner.\n"
   ]
  }
 ],
 "metadata": {
  "kernelspec": {
   "display_name": "Python 3",
   "language": "python",
   "name": "python3"
  },
  "language_info": {
   "codemirror_mode": {
    "name": "ipython",
    "version": 3
   },
   "file_extension": ".py",
   "mimetype": "text/x-python",
   "name": "python",
   "nbconvert_exporter": "python",
   "pygments_lexer": "ipython3",
   "version": "3.8.8"
  }
 },
 "nbformat": 4,
 "nbformat_minor": 5
}
